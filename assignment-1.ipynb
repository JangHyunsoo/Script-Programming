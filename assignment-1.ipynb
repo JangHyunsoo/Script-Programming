{
 "cells": [
  {
   "cell_type": "markdown",
   "metadata": {},
   "source": [
    "# Assignment 1\n",
    "### [정보](https://github.com/JangHyunsoo/Script-Programming)\n",
    "#### 1) Due Date: 2021년 9월 24일 (금), 23시 59분\n",
    "\n",
    "#### 2) 제출방법: 수업 홈페이지 하단의 \"[숙제 제출 방법]\" 참고\n",
    "\n",
    "#### 3) 내용: 반드시 python code와 수행 결과를 jupyter notebook 내에 작성하여 넣고, 이에 대한 설명 등을 해당 코드 아래에 markdown cell 등에 넣어 기입하시오.\n",
    "\n",
    "#### 4) 숙제이후 소감 작성: 10개의 문제의 답을 모두 작성한 이후에 현재까지 강의를 들은 후의 소감, 숙제를 한 이후의 소감, 또는 전하고자 하는 말 등을 짧막하게라도 좋으니 jupyter notebook 마지막 markdown cell에 함께 작성하여 제출하시오.\n",
    "\n",
    "#### 5) 반드시 본인 스스로 문제를 해결하세요~~~\n"
   ]
  },
  {
   "cell_type": "markdown",
   "metadata": {},
   "source": [
    "### [문제]"
   ]
  },
  {
   "cell_type": "markdown",
   "metadata": {},
   "source": [
    "1. a=\"Hello Python\" 문자열을 Slicing과 연결 연산자 (+)를 사용하여 \"Python Hello\"로 변경하시오.\n",
    "  - [주의] a 변수 자체에 \"Python Hello\" 문자열이 저장되어야 함"
   ]
  },
  {
   "cell_type": "code",
   "execution_count": 21,
   "metadata": {},
   "outputs": [
    {
     "name": "stdout",
     "output_type": "stream",
     "text": [
      "Python Hello\n"
     ]
    }
   ],
   "source": [
    "a = \"Hello Python\"\n",
    "a = a[6:] + a[5:6] + a[0:5]\n",
    "print(a)"
   ]
  },
  {
   "cell_type": "markdown",
   "metadata": {},
   "source": [
    "2. b=\"Hello Python World\" 문자열을 Slicing과 연결 연산자 (+)를 사용하여 \"World Python Hello\"로 변경하시오.\n",
    "  - [주의] b 변수 자체에 \"World Python Hello\" 문자열이 저장되어야 함  "
   ]
  },
  {
   "cell_type": "code",
   "execution_count": 41,
   "metadata": {},
   "outputs": [
    {
     "name": "stdout",
     "output_type": "stream",
     "text": [
      "World Python Hello\n"
     ]
    }
   ],
   "source": [
    "b = \"Hello Python World\"\n",
    "b = b[13:] + b[12:13] + b[6:13] + b[0:5]\n",
    "print(b)"
   ]
  },
  {
   "cell_type": "markdown",
   "metadata": {},
   "source": [
    "3. c=\"Hello\"를 \"olleH\"로 변경하시오\n",
    "  - [주의] c 변수 자체에 \"olleH\" 문자열이 저장되어야 함"
   ]
  },
  {
   "cell_type": "code",
   "execution_count": 9,
   "metadata": {},
   "outputs": [
    {
     "name": "stdout",
     "output_type": "stream",
     "text": [
      "olleH\n"
     ]
    }
   ],
   "source": [
    "c = \"Hello\"\n",
    "c = c[::-1]\n",
    "print(c)"
   ]
  },
  {
   "cell_type": "markdown",
   "metadata": {},
   "source": [
    "4. s=\"python\"에 대해 다음 문제를 풀어보시오.\n",
    "  1. s[0], s[0][0], s[0][0][0]은 각각 어떤 값이 나오는지 확인하고 그 이유를 나름대로 설명해 보시오.\n",
    "  2. s[-100], s[100]은 값이 나오는지 에러가 나오는지 확인하고 그 결과에 대한 이유를 나름대로 설명해 보시오.\n",
    "  3. s[-100, 100]은 값이 나오는지 에러가 나오는지 확인하고 그 결과에 대한 이유를 나름대로 설명해 보시오.\n",
    "  4. s[1:-1]의 결과를 확인하고 그 결과에 대한 이유를 정확하게 설명하시오.\n",
    "  5. s[3:-3]의 결과를 확인하고 그 결과에 대한 이유를 정확하게 설명하시오."
   ]
  },
  {
   "cell_type": "code",
   "execution_count": 44,
   "metadata": {},
   "outputs": [],
   "source": [
    "s = \"python\""
   ]
  },
  {
   "cell_type": "code",
   "execution_count": 59,
   "metadata": {},
   "outputs": [
    {
     "name": "stdout",
     "output_type": "stream",
     "text": [
      "p\n",
      "p\n",
      "p\n"
     ]
    }
   ],
   "source": [
    "# A.아래와 같은 결과가 나오는 이유는 s[0]은 \"H\"를 가져오게 되는데\n",
    "# 이 \"H\" 자체도 str 객체이고 이것 또한 길이가 1인 str이기 때문에 0까지는 인댁싱 할 수 있기 때문이다.\n",
    "# 때문에 s[0][10] 이면 string index out of range를 반환한다.\n",
    "print(s[0]) # p\n",
    "print(s[0][0]) # p \n",
    "print(s[0][0][0]) # p"
   ]
  },
  {
   "cell_type": "code",
   "execution_count": 60,
   "metadata": {},
   "outputs": [
    {
     "ename": "IndexError",
     "evalue": "string index out of range",
     "output_type": "error",
     "traceback": [
      "\u001b[1;31m---------------------------------------------------------------------------\u001b[0m",
      "\u001b[1;31mIndexError\u001b[0m                                Traceback (most recent call last)",
      "\u001b[1;32m<ipython-input-60-b88d75ebaca7>\u001b[0m in \u001b[0;36m<module>\u001b[1;34m\u001b[0m\n\u001b[0;32m      1\u001b[0m \u001b[1;31m# B.인덱스가 길이를 넘었기 때문에 오류를 반환한다.\u001b[0m\u001b[1;33m\u001b[0m\u001b[1;33m\u001b[0m\u001b[1;33m\u001b[0m\u001b[0m\n\u001b[1;32m----> 2\u001b[1;33m \u001b[0mprint\u001b[0m\u001b[1;33m(\u001b[0m\u001b[0ms\u001b[0m\u001b[1;33m[\u001b[0m\u001b[1;33m-\u001b[0m\u001b[1;36m100\u001b[0m\u001b[1;33m]\u001b[0m\u001b[1;33m)\u001b[0m \u001b[1;31m# string index out of range\u001b[0m\u001b[1;33m\u001b[0m\u001b[1;33m\u001b[0m\u001b[0m\n\u001b[0m\u001b[0;32m      3\u001b[0m \u001b[0mprint\u001b[0m\u001b[1;33m(\u001b[0m\u001b[0ms\u001b[0m\u001b[1;33m[\u001b[0m\u001b[1;36m100\u001b[0m\u001b[1;33m]\u001b[0m\u001b[1;33m)\u001b[0m \u001b[1;31m# string index out of range\u001b[0m\u001b[1;33m\u001b[0m\u001b[1;33m\u001b[0m\u001b[0m\n",
      "\u001b[1;31mIndexError\u001b[0m: string index out of range"
     ]
    }
   ],
   "source": [
    "# B.인덱스가 길이를 넘었기 때문에 오류를 반환한다.\n",
    "print(s[-100]) # string index out of range\n",
    "print(s[100]) # string index out of range"
   ]
  },
  {
   "cell_type": "code",
   "execution_count": 61,
   "metadata": {},
   "outputs": [
    {
     "ename": "TypeError",
     "evalue": "string indices must be integers",
     "output_type": "error",
     "traceback": [
      "\u001b[1;31m---------------------------------------------------------------------------\u001b[0m",
      "\u001b[1;31mTypeError\u001b[0m                                 Traceback (most recent call last)",
      "\u001b[1;32m<ipython-input-61-404ec4e302a2>\u001b[0m in \u001b[0;36m<module>\u001b[1;34m\u001b[0m\n\u001b[0;32m      1\u001b[0m \u001b[1;31m# C. 없는 요소 접근 방법으로 보인다.\u001b[0m\u001b[1;33m\u001b[0m\u001b[1;33m\u001b[0m\u001b[1;33m\u001b[0m\u001b[0m\n\u001b[1;32m----> 2\u001b[1;33m \u001b[0mprint\u001b[0m\u001b[1;33m(\u001b[0m\u001b[0ms\u001b[0m\u001b[1;33m[\u001b[0m\u001b[1;36m100\u001b[0m\u001b[1;33m,\u001b[0m\u001b[1;33m-\u001b[0m\u001b[1;36m100\u001b[0m\u001b[1;33m]\u001b[0m\u001b[1;33m)\u001b[0m\u001b[1;33m\u001b[0m\u001b[1;33m\u001b[0m\u001b[0m\n\u001b[0m",
      "\u001b[1;31mTypeError\u001b[0m: string indices must be integers"
     ]
    }
   ],
   "source": [
    "# C. 없는 요소 접근 방법으로 보인다.\n",
    "print(s[100,-100])"
   ]
  },
  {
   "cell_type": "code",
   "execution_count": 58,
   "metadata": {},
   "outputs": [
    {
     "name": "stdout",
     "output_type": "stream",
     "text": [
      "ytho\n"
     ]
    }
   ],
   "source": [
    "# D. 1번 인덱스부터 len(s) - 1번 인덱스까지 슬라이싱한다.\n",
    "# 따라서 s[1:-2]를 하면 \"yth\"가 나올 것이다.\n",
    "print(s[1:-1]) # print(s[1:len(s)-1])"
   ]
  },
  {
   "cell_type": "code",
   "execution_count": 57,
   "metadata": {},
   "outputs": [
    {
     "name": "stdout",
     "output_type": "stream",
     "text": [
      "\n"
     ]
    }
   ],
   "source": [
    "# E. 3번 인덱스에서 len(s) - 3번 인덱스까지 슬라이싱 하는 것인데\n",
    "# 하지만 이때 슬라이싱이 3:3과 같이 호출하게 되는데 이는 아무것도 없는 문자열('')을 출력한다.\n",
    "print(s[3:-3]) # print(s[3:len(s)-3])"
   ]
  },
  {
   "cell_type": "markdown",
   "metadata": {},
   "source": [
    "5. for문을 활용하여 1부터 100사이의 홀수를 출력하시오."
   ]
  },
  {
   "cell_type": "code",
   "execution_count": 62,
   "metadata": {},
   "outputs": [
    {
     "name": "stdout",
     "output_type": "stream",
     "text": [
      "1\n",
      "3\n",
      "5\n",
      "7\n",
      "9\n",
      "11\n",
      "13\n",
      "15\n",
      "17\n",
      "19\n",
      "21\n",
      "23\n",
      "25\n",
      "27\n",
      "29\n",
      "31\n",
      "33\n",
      "35\n",
      "37\n",
      "39\n",
      "41\n",
      "43\n",
      "45\n",
      "47\n",
      "49\n",
      "51\n",
      "53\n",
      "55\n",
      "57\n",
      "59\n",
      "61\n",
      "63\n",
      "65\n",
      "67\n",
      "69\n",
      "71\n",
      "73\n",
      "75\n",
      "77\n",
      "79\n",
      "81\n",
      "83\n",
      "85\n",
      "87\n",
      "89\n",
      "91\n",
      "93\n",
      "95\n",
      "97\n",
      "99\n"
     ]
    }
   ],
   "source": [
    "for i in range(1,101):\n",
    "    if(i % 2):\n",
    "        print(i)"
   ]
  },
  {
   "cell_type": "markdown",
   "metadata": {},
   "source": [
    "6. while문을 활용하여 1부터 100사이의 짝수의 합을 계산하여 출력하시오."
   ]
  },
  {
   "cell_type": "code",
   "execution_count": 63,
   "metadata": {},
   "outputs": [
    {
     "name": "stdout",
     "output_type": "stream",
     "text": [
      "2550\n"
     ]
    }
   ],
   "source": [
    "s = 0\n",
    "i = 1\n",
    "while i <= 100:\n",
    "    if not i % 2:\n",
    "        s += i\n",
    "    i += 1\n",
    "    \n",
    "print(s)"
   ]
  },
  {
   "cell_type": "markdown",
   "metadata": {},
   "source": [
    "7. 사용자로 부터 임의의 정수를 입력받고, 해당 숫자를 역순으로 출력하는 프로그램을 작성하시오. \n",
    "\n",
    "    [실행 예]\n",
    "    ```bash\n",
    "    정수를 입력하세요: 3125\n",
    "    숫자 역순은 5213 입니다.\n",
    "    ```"
   ]
  },
  {
   "cell_type": "code",
   "execution_count": 64,
   "metadata": {
    "scrolled": false
   },
   "outputs": [
    {
     "name": "stdout",
     "output_type": "stream",
     "text": [
      "정수를 입력하세요: 3125\n",
      "숫자 역순은 5213 입니다\n"
     ]
    }
   ],
   "source": [
    "# 제일 앞 숫자가 0이 나올때는 없에고 뒤집었습니다.\n",
    "try:\n",
    "    a = int(input(\"정수를 입력하세요: \")) \n",
    "    print(\"숫자 역순은 \"+str(a)[::-1]+\" 입니다\")\n",
    "except:\n",
    "    print(\"입력이 잘못되었습니다.\")\n"
   ]
  },
  {
   "cell_type": "markdown",
   "metadata": {},
   "source": [
    "8. 사용자로 부터 정수를 입력받아서 1부터 그 사이에 존재하는 소수 (Prime number)를 출력하는 파이썬 프로그램을 작성하시오."
   ]
  },
  {
   "cell_type": "code",
   "execution_count": 65,
   "metadata": {},
   "outputs": [
    {
     "name": "stdout",
     "output_type": "stream",
     "text": [
      "300\n",
      "2\n",
      "3\n",
      "5\n",
      "7\n",
      "11\n",
      "13\n",
      "17\n",
      "19\n",
      "23\n",
      "29\n",
      "31\n",
      "37\n",
      "41\n",
      "43\n",
      "47\n",
      "53\n",
      "59\n",
      "61\n",
      "67\n",
      "71\n",
      "73\n",
      "79\n",
      "83\n",
      "89\n",
      "97\n",
      "101\n",
      "103\n",
      "107\n",
      "109\n",
      "113\n",
      "127\n",
      "131\n",
      "137\n",
      "139\n",
      "149\n",
      "151\n",
      "157\n",
      "163\n",
      "167\n",
      "173\n",
      "179\n",
      "181\n",
      "191\n",
      "193\n",
      "197\n",
      "199\n",
      "211\n",
      "223\n",
      "227\n",
      "229\n",
      "233\n",
      "239\n",
      "241\n",
      "251\n",
      "257\n",
      "263\n",
      "269\n",
      "271\n",
      "277\n",
      "281\n",
      "283\n",
      "293\n"
     ]
    }
   ],
   "source": [
    "def printPrime(n = 2):\n",
    "    if(n < 2):\n",
    "        return None\n",
    "    \n",
    "    # 에라토스테네스의 체 사용\n",
    "    arr = [True for _ in range(0,n + 1)]\n",
    "    \n",
    "    for i in range(2,int(n**0.5) + 1):\n",
    "        if arr[i] == 0:\n",
    "            continue\n",
    "        for j in range(2*i, n + 1, i):\n",
    "            arr[j] = False\n",
    "    \n",
    "    for i in range(2, n + 1):\n",
    "        if arr[i]:\n",
    "            print(i)\n",
    "        \n",
    "    \n",
    "try:\n",
    "    num = int(input())\n",
    "    printPrime(num)   \n",
    "except:\n",
    "    print(\"입력이 잘못됬습니다.\")\n"
   ]
  },
  {
   "cell_type": "markdown",
   "metadata": {},
   "source": [
    "9. Kevin과 Stuart는 게임을 한다. 규칙은 아래와 같다.\n",
    "\n",
    "    - 두 플레이어에게 같은 string, S, 가 주어진다.\n",
    "    - 두 플레이어는 string S의 문자를 사용하여 substring을 만들어야 한다(중복 가능).\n",
    "    - Stuart는 자음으로 시작하는 단어를 만들어야 한다.\n",
    "    - Kevin은 모음으로 시작하는 단어를 만들어야 한다.\n",
    "    - 게임은 두 플레이어가 만들 수 있는 모든 단어를 만들었을 때 끝난다.\n",
    "    - 점수 계산 : substring 1개당 +1 점을 획득한다. (아래 그림 참고)"
   ]
  },
  {
   "cell_type": "markdown",
   "metadata": {},
   "source": [
    "- <img style=\"float: left;\" src=\"https://nbviewer.jupyter.org/github/linklab/supercharged_python/blob/master/assignment2021/image/assignment1-9.png\" width=\"55%\">"
   ]
  },
  {
   "cell_type": "markdown",
   "metadata": {},
   "source": [
    "- 사용자로 부터 대문자로 이루어진 string S를 입력받고, 승자와 그의 점수를 출력하는 프로그램을 작성하시오.\n",
    "\n",
    "    [실행 예]\n",
    "    ```\n",
    "    string S를 입력하세요: BANANA\n",
    "    승자: Stuart 점수: 12\n",
    "    ```"
   ]
  },
  {
   "cell_type": "code",
   "execution_count": 66,
   "metadata": {},
   "outputs": [
    {
     "name": "stdout",
     "output_type": "stream",
     "text": [
      "string S를 입력하세요: BANANA\n",
      "승자: Stuart 점수: 12\n"
     ]
    }
   ],
   "source": [
    "def countDivid(s):\n",
    "    size = len(s)\n",
    "    consonant = 0\n",
    "    vowel = 0\n",
    "    for i in range(0, len(s)):\n",
    "        if(\"aeiouAEIOU\".find(s[i]) != -1):\n",
    "            vowel += 1 * (size - i)\n",
    "        else:\n",
    "            consonant += 1 * (size - i)\n",
    "    return consonant, vowel\n",
    "        \n",
    "s = input(\"string S를 입력하세요: \")\n",
    "Stuart, Kevin = countDivid(s)\n",
    "if Stuart > Kevin:\n",
    "    print(\"승자: Stuart 점수: %d\"%(Stuart))\n",
    "elif Stuart == Kevin:\n",
    "    print(\"무승부 점수: %d\"%(Stuart))\n",
    "else:\n",
    "    print(\"승자: Kevin 점수: %d\"%(Kevin))\n",
    "            "
   ]
  },
  {
   "cell_type": "markdown",
   "metadata": {},
   "source": [
    "10. 알파벳 소문자만으로 이루어진 string, S, 가 주어지고 아래 2가지 연산을 수행할 수 있다.\n",
    "    - 추가 : string S의 끝에 알파벳 소문자 하나를 추가한다.\n",
    "    - 삭제 : string S의 마지막 문자 하나를 삭제한다. empty string에서 삭제 연산을 수행한 결과는 empty string이다.\n",
    "\n",
    "두 개의 string, s와 t, 그리고 정수 k가 주어질 때, 정확히 k번의 연산을 통해 s를 t로 바꿀 수 있는지 판단하는 함수를 작성하시오."
   ]
  },
  {
   "cell_type": "code",
   "execution_count": 67,
   "metadata": {},
   "outputs": [
    {
     "name": "stdout",
     "output_type": "stream",
     "text": [
      "Yes\n",
      "Yes\n",
      "Yes\n",
      "No\n"
     ]
    }
   ],
   "source": [
    "def appendDelete(s, t, k):\n",
    "    '''\n",
    "    함수 포맷 변경하지 마세요.\n",
    "    s를 정확히 k번의 연산을 통해 t로 바꿀 수 있다면 'Yes'를 아니면 'No'를 return 해주세요.\n",
    "    '''\n",
    "    # 빈문자열 일경우 예외처리를 위하여 최소 길이를 1로 맞춰줌\n",
    "    s = 'a' + s\n",
    "    t = 'a' + t\n",
    "    s_size = len(s)\n",
    "    t_size = len(t)\n",
    "    cnt = 0\n",
    "    for cnt in range(0, min(s_size, t_size)):\n",
    "        if(s[cnt] != t[cnt]):\n",
    "            cnt -= 1\n",
    "            break\n",
    "    \n",
    "    result = s_size - cnt + t_size - cnt - 2\n",
    "    \n",
    "    if result > k:\n",
    "        return \"No\"\n",
    "    return \"Yes\"\n",
    "\n",
    "# test\n",
    "print(appendDelete('', '', 0))\n",
    "print(appendDelete('hackerhappy', 'hackerrank', 9))\n",
    "print(appendDelete('aba', 'aba', 7))\n",
    "print(appendDelete('ashley', 'ash', 2))"
   ]
  },
  {
   "cell_type": "markdown",
   "metadata": {},
   "source": [
    "-    [예시]\n",
    "        ```\n",
    "        1. s = 'hackerhappy'    t = 'hackerrank'    k = 9    => 'Yes'\n",
    "        \n",
    "        2. s = 'aba'            t = 'aba'           k = 7    => 'Yes'\n",
    "        \n",
    "        3. s = 'ashley'         t = 'ash'           k = 2    => 'No'\n",
    "        \n",
    "        ```"
   ]
  },
  {
   "cell_type": "markdown",
   "metadata": {},
   "source": [
    "#### 4) 숙제이후 소감 작성: 10개의 문제의 답을 모두 작성한 이후에 현재까지 강의를 들은 후의 소감, 숙제를 한 이후의 소감, 또는 전하고자 하는 말 등을 짧막하게라도 좋으니 jupyter notebook 마지막 markdown cell에 함께 작성하여 제출하시오.\n",
    "---\n",
    "- 강의를 듣기 전까지는 파이썬은 막연히 배우기 쉬운 언어, 사용하기 쉬운 언어라고 생각하고 있었습니다. 하지만 강의를 들으면서 C/C++과의 차이를 생각하며 교수님의 설명을 들으니 어디가 쓰기 변하고 어디를 신경쓰며 프로그래밍을 해야하는지 알 수 있었습니다.\n",
    "\n",
    "1. `swap`을 이렇게 사용하는지 몰랐습니다.\n",
    "```python\n",
    "# 1st\n",
    "a = 1\n",
    "b = 2\n",
    "a, b = b, a\n",
    "```\n",
    "\n",
    "2. 인터프린터라 가능한 것인지 모르겠지만 내부적으로 어떻게 돌아가고 있는지 궁금합니다.\n",
    "```python\n",
    "# 2nd\n",
    "s = '''hello\n",
    "python\n",
    "world'''\n",
    "```\n",
    "\n",
    "3. python에도 함수포인터(객체) 개념이 있는지 몰랐습니다.\n",
    "```python\n",
    "# 3rd\n",
    "def func(a):\n",
    "    return a*a\n",
    "f = func\n",
    "print(f(10))\n",
    "```\n",
    "\n",
    "4. 원시타입 변수또한 객체로 만들어서 가능한 일로 보이는데 python에도 `java`의 `object` 클래스처럼 최상위 부모클래스가 존재하는 건가요?\n",
    "```python\n",
    "# 4th\n",
    "proto = [1,'a',2]\n",
    "```\n",
    "\n",
    "\n",
    "#### 읽어주셔서 감사드립니다. "
   ]
  }
 ],
 "metadata": {
  "anaconda-cloud": {},
  "kernelspec": {
   "display_name": "Python 3",
   "language": "python",
   "name": "python3"
  },
  "language_info": {
   "codemirror_mode": {
    "name": "ipython",
    "version": 3
   },
   "file_extension": ".py",
   "mimetype": "text/x-python",
   "name": "python",
   "nbconvert_exporter": "python",
   "pygments_lexer": "ipython3",
   "version": "3.8.8"
  }
 },
 "nbformat": 4,
 "nbformat_minor": 1
}
