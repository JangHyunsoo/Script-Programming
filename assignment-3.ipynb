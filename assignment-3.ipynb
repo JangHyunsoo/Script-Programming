{
 "cells": [
  {
   "cell_type": "markdown",
   "metadata": {
    "id": "-oNWU_s23qyk"
   },
   "source": [
    "# Assignment 3\n",
    "### [정보]\n",
    "#### 1) Due Date: 2021년 10월 22일 (금), 23시 59분\n",
    "\n",
    "#### 2) 제출방법: 수업 홈페이지 하단의 \"[숙제 제출 방법]\" 참고\n",
    "\n",
    "#### 3) 내용: 반드시 python code와 수행 결과를 jupyter notebook 내에 작성하여 넣고, 이에 대한 설명 등을 해당 코드 아래에 markdown cell 등에 넣어 기입하시오.\n",
    "\n",
    "#### 4) 숙제이후 소감 작성: 10개의 문제의 답을 모두 작성한 이후에 현재까지 강의를 들은 후의 소감, 숙제를 한 이후의 소감, 또는 전하고자 하는 말 등을 짧막하게라도 좋으니 jupyter notebook 마지막 markdown cell에 함께 작성하여 제출하시오.\n",
    "\n",
    "#### 5) 반드시 본인 스스로 문제를 해결하세요~~~"
   ]
  },
  {
   "cell_type": "markdown",
   "metadata": {
    "id": "lvBlx6Aa3qyn"
   },
   "source": [
    "### [일반 문제]"
   ]
  },
  {
   "cell_type": "markdown",
   "metadata": {
    "id": "-jIsOHoxqtz3"
   },
   "source": [
    "## Problem 1"
   ]
  },
  {
   "cell_type": "markdown",
   "metadata": {
    "id": "f6IHUriG3qyo"
   },
   "source": [
    "1. L=[1, 2, 3, 4, 5]일 때 다음 각 문장을 수행한 후의 결과를 보고 납득할 만한 이유를 설명하시오.  \n",
    "  - 1)<pre>L[1:3] = [100]\n",
    "   print(L)</pre>\n",
    "  - 2)<pre>L[1:3] = [(100)]\n",
    "   print(L)</pre>\n",
    "  - 3)<pre>L[1:3] = 100\n",
    "   print(L)</pre>\n",
    "  - 4)<pre>L[1:3] = (100)\n",
    "   print(L)</pre>\n",
    "  - 5)<pre>L[1:3] = (100, 101, 102)\n",
    "   print(L)</pre>\n",
    "  - 6)<pre>L[1:3] = [100, 101, 102]\n",
    "   print(L)</pre>      \n",
    "  - 7)<pre>L[1:3] = [(100, 101, 102)]\n",
    "   print(L)</pre>      \n",
    "  - 8)<pre>L[1:3] = [[100, 101, 102]]\n",
    "   print(L)</pre>            "
   ]
  },
  {
   "cell_type": "code",
   "execution_count": 48,
   "metadata": {
    "colab": {
     "base_uri": "https://localhost:8080/"
    },
    "executionInfo": {
     "elapsed": 453,
     "status": "ok",
     "timestamp": 1634833615336,
     "user": {
      "displayName": "장현수",
      "photoUrl": "https://lh3.googleusercontent.com/a/default-user=s64",
      "userId": "10116768651020556831"
     },
     "user_tz": -540
    },
    "id": "N44IFuPgq11i",
    "outputId": "1e610cdb-fcbf-4ae0-97ba-8b9f8d1448be"
   },
   "outputs": [
    {
     "name": "stdout",
     "output_type": "stream",
     "text": [
      "[1, 100, 4, 5]\n"
     ]
    }
   ],
   "source": [
    "# 1)\n",
    "L=[1, 2, 3, 4, 5]\n",
    "L[1:3] = [100]\n",
    "print(L)"
   ]
  },
  {
   "cell_type": "code",
   "execution_count": 47,
   "metadata": {
    "colab": {
     "base_uri": "https://localhost:8080/"
    },
    "executionInfo": {
     "elapsed": 445,
     "status": "ok",
     "timestamp": 1634833618121,
     "user": {
      "displayName": "장현수",
      "photoUrl": "https://lh3.googleusercontent.com/a/default-user=s64",
      "userId": "10116768651020556831"
     },
     "user_tz": -540
    },
    "id": "EWEbtiLfq48q",
    "outputId": "07b3ebed-6576-41dd-da03-c8a327b35848"
   },
   "outputs": [
    {
     "name": "stdout",
     "output_type": "stream",
     "text": [
      "[1, 100, 4, 5]\n"
     ]
    }
   ],
   "source": [
    "# 2)\n",
    "L=[1, 2, 3, 4, 5]\n",
    "L[1:3] = [(100)]\n",
    "print(L)"
   ]
  },
  {
   "cell_type": "code",
   "execution_count": 46,
   "metadata": {
    "colab": {
     "base_uri": "https://localhost:8080/",
     "height": 226
    },
    "executionInfo": {
     "elapsed": 537,
     "status": "error",
     "timestamp": 1634833875880,
     "user": {
      "displayName": "장현수",
      "photoUrl": "https://lh3.googleusercontent.com/a/default-user=s64",
      "userId": "10116768651020556831"
     },
     "user_tz": -540
    },
    "id": "eW3sfxjtq5zx",
    "outputId": "209d0798-f22d-43dd-f37f-157aaef4d10b"
   },
   "outputs": [
    {
     "ename": "TypeError",
     "evalue": "can only assign an iterable",
     "output_type": "error",
     "traceback": [
      "\u001b[1;31m---------------------------------------------------------------------------\u001b[0m",
      "\u001b[1;31mTypeError\u001b[0m                                 Traceback (most recent call last)",
      "\u001b[1;32m~\\AppData\\Local\\Temp/ipykernel_23108/56091559.py\u001b[0m in \u001b[0;36m<module>\u001b[1;34m\u001b[0m\n\u001b[0;32m      1\u001b[0m \u001b[1;31m# 3)\u001b[0m\u001b[1;33m\u001b[0m\u001b[1;33m\u001b[0m\u001b[1;33m\u001b[0m\u001b[0m\n\u001b[0;32m      2\u001b[0m \u001b[0mL\u001b[0m\u001b[1;33m=\u001b[0m\u001b[1;33m[\u001b[0m\u001b[1;36m1\u001b[0m\u001b[1;33m,\u001b[0m \u001b[1;36m2\u001b[0m\u001b[1;33m,\u001b[0m \u001b[1;36m3\u001b[0m\u001b[1;33m,\u001b[0m \u001b[1;36m4\u001b[0m\u001b[1;33m,\u001b[0m \u001b[1;36m5\u001b[0m\u001b[1;33m]\u001b[0m\u001b[1;33m\u001b[0m\u001b[1;33m\u001b[0m\u001b[0m\n\u001b[1;32m----> 3\u001b[1;33m \u001b[0mL\u001b[0m\u001b[1;33m[\u001b[0m\u001b[1;36m1\u001b[0m\u001b[1;33m:\u001b[0m\u001b[1;36m3\u001b[0m\u001b[1;33m]\u001b[0m \u001b[1;33m=\u001b[0m \u001b[1;36m100\u001b[0m\u001b[1;33m\u001b[0m\u001b[1;33m\u001b[0m\u001b[0m\n\u001b[0m\u001b[0;32m      4\u001b[0m \u001b[0mprint\u001b[0m\u001b[1;33m(\u001b[0m\u001b[0mL\u001b[0m\u001b[1;33m)\u001b[0m\u001b[1;33m\u001b[0m\u001b[1;33m\u001b[0m\u001b[0m\n",
      "\u001b[1;31mTypeError\u001b[0m: can only assign an iterable"
     ]
    }
   ],
   "source": [
    "# 3)\n",
    "L=[1, 2, 3, 4, 5]\n",
    "L[1:3] = 100\n",
    "print(L)"
   ]
  },
  {
   "cell_type": "code",
   "execution_count": 45,
   "metadata": {
    "colab": {
     "base_uri": "https://localhost:8080/",
     "height": 226
    },
    "executionInfo": {
     "elapsed": 514,
     "status": "error",
     "timestamp": 1634833907004,
     "user": {
      "displayName": "장현수",
      "photoUrl": "https://lh3.googleusercontent.com/a/default-user=s64",
      "userId": "10116768651020556831"
     },
     "user_tz": -540
    },
    "id": "utakxP6xq8tQ",
    "outputId": "08d79d80-42be-4ca9-dc2b-bdcecfd5b188"
   },
   "outputs": [
    {
     "ename": "TypeError",
     "evalue": "can only assign an iterable",
     "output_type": "error",
     "traceback": [
      "\u001b[1;31m---------------------------------------------------------------------------\u001b[0m",
      "\u001b[1;31mTypeError\u001b[0m                                 Traceback (most recent call last)",
      "\u001b[1;32m~\\AppData\\Local\\Temp/ipykernel_23108/810357945.py\u001b[0m in \u001b[0;36m<module>\u001b[1;34m\u001b[0m\n\u001b[0;32m      1\u001b[0m \u001b[1;31m# 4)\u001b[0m\u001b[1;33m\u001b[0m\u001b[1;33m\u001b[0m\u001b[1;33m\u001b[0m\u001b[0m\n\u001b[0;32m      2\u001b[0m \u001b[0mL\u001b[0m\u001b[1;33m=\u001b[0m\u001b[1;33m[\u001b[0m\u001b[1;36m1\u001b[0m\u001b[1;33m,\u001b[0m \u001b[1;36m2\u001b[0m\u001b[1;33m,\u001b[0m \u001b[1;36m3\u001b[0m\u001b[1;33m,\u001b[0m \u001b[1;36m4\u001b[0m\u001b[1;33m,\u001b[0m \u001b[1;36m5\u001b[0m\u001b[1;33m]\u001b[0m\u001b[1;33m\u001b[0m\u001b[1;33m\u001b[0m\u001b[0m\n\u001b[1;32m----> 3\u001b[1;33m \u001b[0mL\u001b[0m\u001b[1;33m[\u001b[0m\u001b[1;36m1\u001b[0m\u001b[1;33m:\u001b[0m\u001b[1;36m3\u001b[0m\u001b[1;33m]\u001b[0m \u001b[1;33m=\u001b[0m \u001b[1;33m(\u001b[0m\u001b[1;36m100\u001b[0m\u001b[1;33m)\u001b[0m\u001b[1;33m\u001b[0m\u001b[1;33m\u001b[0m\u001b[0m\n\u001b[0m\u001b[0;32m      4\u001b[0m \u001b[0mprint\u001b[0m\u001b[1;33m(\u001b[0m\u001b[0mL\u001b[0m\u001b[1;33m)\u001b[0m\u001b[1;33m\u001b[0m\u001b[1;33m\u001b[0m\u001b[0m\n",
      "\u001b[1;31mTypeError\u001b[0m: can only assign an iterable"
     ]
    }
   ],
   "source": [
    "# 4)\n",
    "L=[1, 2, 3, 4, 5]\n",
    "L[1:3] = (100)\n",
    "print(L)"
   ]
  },
  {
   "cell_type": "code",
   "execution_count": 44,
   "metadata": {
    "colab": {
     "base_uri": "https://localhost:8080/"
    },
    "executionInfo": {
     "elapsed": 3,
     "status": "ok",
     "timestamp": 1634833623555,
     "user": {
      "displayName": "장현수",
      "photoUrl": "https://lh3.googleusercontent.com/a/default-user=s64",
      "userId": "10116768651020556831"
     },
     "user_tz": -540
    },
    "id": "yrlj4g3Mq-0G",
    "outputId": "e25c96e9-2fe4-4b69-cd83-f4e772f4d766"
   },
   "outputs": [
    {
     "name": "stdout",
     "output_type": "stream",
     "text": [
      "[1, 100, 101, 102, 4, 5]\n"
     ]
    }
   ],
   "source": [
    "# 5)\n",
    "L=[1, 2, 3, 4, 5]\n",
    "L[1:3] = (100, 101, 102)\n",
    "print(L)"
   ]
  },
  {
   "cell_type": "code",
   "execution_count": 42,
   "metadata": {
    "colab": {
     "base_uri": "https://localhost:8080/"
    },
    "executionInfo": {
     "elapsed": 3,
     "status": "ok",
     "timestamp": 1634834756079,
     "user": {
      "displayName": "장현수",
      "photoUrl": "https://lh3.googleusercontent.com/a/default-user=s64",
      "userId": "10116768651020556831"
     },
     "user_tz": -540
    },
    "id": "XkH3O0iNrALo",
    "outputId": "a33c9629-d962-4244-afa6-249f90c46c2c"
   },
   "outputs": [
    {
     "name": "stdout",
     "output_type": "stream",
     "text": [
      "[1, 100, 101, 102, 4, 5]\n"
     ]
    }
   ],
   "source": [
    "# 6)\n",
    "L=[1, 2, 3, 4, 5]\n",
    "L[1:3] = [100, 101, 102]\n",
    "print(L)"
   ]
  },
  {
   "cell_type": "code",
   "execution_count": 41,
   "metadata": {
    "colab": {
     "base_uri": "https://localhost:8080/"
    },
    "executionInfo": {
     "elapsed": 2,
     "status": "ok",
     "timestamp": 1634833625692,
     "user": {
      "displayName": "장현수",
      "photoUrl": "https://lh3.googleusercontent.com/a/default-user=s64",
      "userId": "10116768651020556831"
     },
     "user_tz": -540
    },
    "id": "THJg2_ozrB4Y",
    "outputId": "f55e8c81-7ebf-4d67-9546-f4dfdd3032dd"
   },
   "outputs": [
    {
     "name": "stdout",
     "output_type": "stream",
     "text": [
      "[1, (100, 101, 102), 4, 5]\n"
     ]
    }
   ],
   "source": [
    "# 7)\n",
    "L=[1, 2, 3, 4, 5]\n",
    "L[1:3] = [(100, 101, 102)]\n",
    "print(L)"
   ]
  },
  {
   "cell_type": "code",
   "execution_count": 39,
   "metadata": {
    "colab": {
     "base_uri": "https://localhost:8080/"
    },
    "executionInfo": {
     "elapsed": 447,
     "status": "ok",
     "timestamp": 1634834646098,
     "user": {
      "displayName": "장현수",
      "photoUrl": "https://lh3.googleusercontent.com/a/default-user=s64",
      "userId": "10116768651020556831"
     },
     "user_tz": -540
    },
    "id": "F9C-jIoqrDGV",
    "outputId": "f6d4c31b-db43-4ee2-c535-ba633fa8ba61"
   },
   "outputs": [
    {
     "name": "stdout",
     "output_type": "stream",
     "text": [
      "[1, [100, 101, 102], 4, 5]\n"
     ]
    }
   ],
   "source": [
    "# 8)\n",
    "L=[1, 2, 3, 4, 5]\n",
    "L[1:3] = [[100, 101, 102]]\n",
    "print(L)"
   ]
  },
  {
   "cell_type": "code",
   "execution_count": 40,
   "metadata": {
    "colab": {
     "base_uri": "https://localhost:8080/"
    },
    "executionInfo": {
     "elapsed": 604,
     "status": "ok",
     "timestamp": 1634834596567,
     "user": {
      "displayName": "장현수",
      "photoUrl": "https://lh3.googleusercontent.com/a/default-user=s64",
      "userId": "10116768651020556831"
     },
     "user_tz": -540
    },
    "id": "SSLObKomuex9",
    "outputId": "caa7f852-41fe-4b77-a8fb-490460cf4d7e"
   },
   "outputs": [
    {
     "name": "stdout",
     "output_type": "stream",
     "text": [
      "[1, 100, 101, 102, 4, 5]\n"
     ]
    }
   ],
   "source": [
    "# Extra1\n",
    "L=[1, 2, 3, 4, 5]\n",
    "L[1:3] = (([100, 101, 102]))\n",
    "print(L)"
   ]
  },
  {
   "cell_type": "markdown",
   "metadata": {
    "id": "HnRuD8r8r0Mw"
   },
   "source": [
    "#### 설명\n",
    "1. 1:3부분을 슬라이싱 후 그 부분에 [100]을 insert한다. 이때 1:3부분을 제거한 후 [100]를 list부분에서 iterator를 순회하면 첫번째부분의 100을 int형으로 insert한다.\n",
    "2. [(100)]은 [100]과 같은 의미임으로 1번과 같다.\n",
    "3. 100과 같은 원시 자료구조는 불가능하고 iterable한 객체만 가능하다.\n",
    "4. (100)은 100과 같은 의미를 가짐으로 3번과 같다.\n",
    "5. 1:3부분을 슬라이싱 후 그 부분에 100, 101, 102를 넣어준다. 이때 1:3부분을 제거한 후 (100, 101, 102)를 tupple부분에서 iterator를 순회하면 첫번째로 100을 int형으로 다음으로는 101을 다음으로는 102를 int형으로 insert한다.\n",
    "6. 1:3부분을 슬라이싱 후 그 부분에 100, 101, 102를 넣어준다. 이때 1:3부분을 제거한 후 [100, 101, 102]를 list부분에서 iterator를 순회하면 첫번째로 100을 int형으로 다음으로는 101을 다음으로는 102를 int형으로 insert한다.\n",
    "7. 1:3부분을 슬라이싱 후 그 부분에 (100, 101, 102) 튜플의 형태로 insert한다. 이유는 [(100,101,102)]중에서 list부분의 iterator를 순회하면 첫번째 원소로 (100,101,102)를 발견하고 이를 1:3부분에 넣어준다.\n",
    "8. 1:3부분을 슬라이싱 후 그 부분에 (100, 101, 102) 튜플의 형태로 insert한다. 이유는 [[100,101,102]]중에서 list부분의 iterator를 순회하면 첫번째 원소로 [100,101,102]를 발견하고 이를 1:3부분에 넣어준다.\n",
    "9. Extra 부분을 확인하면 (([100, 101, 102]))을 확인해 보았는데 [100,101,102]를 (100)의 ()가 생성자가 아닌 계산의 operator로 사용된 것처럼 인식하여 6번과 같은 결과를 보여준다. **시험에 내면 틀리기 딱 좋은 문제로 보입니다.^^7**"
   ]
  },
  {
   "cell_type": "markdown",
   "metadata": {
    "id": "gJTqwhQcjlM4"
   },
   "source": [
    "## Problem 2"
   ]
  },
  {
   "cell_type": "markdown",
   "metadata": {
    "id": "RCyUHXcH3qyo"
   },
   "source": [
    "2. 문자열 S = 'Hello World and Python'에 대해 다음 요구사항에 대한 Python 코드를 제시하시오. \n",
    "  - 1) 단어의 순서가 역순으로 되어진 문자열 ('Python and World Hello')을 만들고  \n",
    "  - 2) 1)의 결과 문자열에 대해 메소드 split과 join을 이용하여 공백을 모두 없엔 문자열 'PythonandWorldHello'을 만드시오."
   ]
  },
  {
   "cell_type": "code",
   "execution_count": 37,
   "metadata": {
    "colab": {
     "base_uri": "https://localhost:8080/"
    },
    "executionInfo": {
     "elapsed": 407,
     "status": "ok",
     "timestamp": 1634798776096,
     "user": {
      "displayName": "장현수",
      "photoUrl": "https://lh3.googleusercontent.com/a/default-user=s64",
      "userId": "10116768651020556831"
     },
     "user_tz": -540
    },
    "id": "6hWIvZGwjpxO",
    "outputId": "5875c4d8-1063-4101-e460-d27d90c2502c"
   },
   "outputs": [
    {
     "name": "stdout",
     "output_type": "stream",
     "text": [
      "Python and World Hello\n"
     ]
    }
   ],
   "source": [
    "# 1)\n",
    "S = 'Hello World and Python'\n",
    "S_1 = ' '.join(S.split()[::-1])\n",
    "print(S_1)"
   ]
  },
  {
   "cell_type": "code",
   "execution_count": 38,
   "metadata": {
    "colab": {
     "base_uri": "https://localhost:8080/"
    },
    "executionInfo": {
     "elapsed": 1,
     "status": "ok",
     "timestamp": 1634798776444,
     "user": {
      "displayName": "장현수",
      "photoUrl": "https://lh3.googleusercontent.com/a/default-user=s64",
      "userId": "10116768651020556831"
     },
     "user_tz": -540
    },
    "id": "tXSImlLtl3T7",
    "outputId": "e8964657-3267-43e9-eafe-99cfdea11fba"
   },
   "outputs": [
    {
     "name": "stdout",
     "output_type": "stream",
     "text": [
      "PythonandWorldHello\n"
     ]
    }
   ],
   "source": [
    "# 2)\n",
    "S_2 = ''.join(S_1.split())\n",
    "print(S_2)"
   ]
  },
  {
   "cell_type": "markdown",
   "metadata": {
    "id": "INMC6H75xl48"
   },
   "source": [
    "#### 설명\n",
    "1. split을 이용하여 ' '를 기준으로 나누어주고 [::-1]을 통하여 reverse한 후 ' '.join을 통하여 사이에 ' '를 포함아여 문자열을 연결해 주었다.\n",
    "2. 다시 split을 통하여 ' '를 기준으로 나누어주고 ''.join을 통하여 사이에 아무것도 넣지 않고 이어주었다."
   ]
  },
  {
   "cell_type": "markdown",
   "metadata": {
    "id": "xFUSSs7Mla2b"
   },
   "source": [
    "## Problem 3"
   ]
  },
  {
   "cell_type": "markdown",
   "metadata": {
    "id": "DeSro1hS3qyp"
   },
   "source": [
    "3. 다음 코드를 보고 물음에 답하시오.\n",
    "  <pre>a = [1, 2, 3]\n",
    "  b = a &#42; 3\n",
    "  c = [a] &#42; 3\n",
    "  print(b)\n",
    "  print(c)</pre>\n",
    "\n",
    "  - 1) 위 코드를 수행한 이후 다음 코드를 수행한 후 b와 c의 내용을 확인하시오.\n",
    "    <pre>a[0]=0</pre>\n",
    "  - 2) b와 c 객체의 차이는 무엇인가?"
   ]
  },
  {
   "cell_type": "code",
   "execution_count": 34,
   "metadata": {
    "colab": {
     "base_uri": "https://localhost:8080/"
    },
    "executionInfo": {
     "elapsed": 436,
     "status": "ok",
     "timestamp": 1634835867203,
     "user": {
      "displayName": "장현수",
      "photoUrl": "https://lh3.googleusercontent.com/a/default-user=s64",
      "userId": "10116768651020556831"
     },
     "user_tz": -540
    },
    "id": "w6WVcKsBlZ-Q",
    "outputId": "120beea4-365d-460d-a16a-438de0dc5a33"
   },
   "outputs": [
    {
     "name": "stdout",
     "output_type": "stream",
     "text": [
      "[1, 2, 3, 1, 2, 3, 1, 2, 3]\n",
      "[[1, 2, 3], [1, 2, 3], [1, 2, 3]]\n"
     ]
    }
   ],
   "source": [
    "a = [1, 2, 3]\n",
    "b = a * 3\n",
    "c = [a] * 3\n",
    "print(b)\n",
    "print(c)"
   ]
  },
  {
   "cell_type": "markdown",
   "metadata": {
    "id": "mhuI8vS-yXn2"
   },
   "source": [
    "#### 설명\n",
    "- b는 a 내부의 iterator를 통하여 전부 확인하여 변수의 형테로 3번 삽입해준다. 반면 c에서는 [[1,2,3]]과 같은 형태로 iterator로 첫번째 값을 확인해보면 [1,2,3]임으로 [1,2,3] 자체를 넣어주고 이때 이가 바라보는 주소는 a와 같기 때문에 a를 바꿔주면 c또한 변경된다. 반면 b는 새로운 주소를 할당하였기 때문에 변경되지 않는다. "
   ]
  },
  {
   "cell_type": "markdown",
   "metadata": {
    "id": "xod9AyVAn67c"
   },
   "source": [
    "## Problem 4"
   ]
  },
  {
   "cell_type": "markdown",
   "metadata": {
    "id": "iXGmvOb83qyp"
   },
   "source": [
    "4. 다음 문자열을 ':'을 기준으로 분리하여 리스트로 만들고 각 문자열의 좌우 공백을 제거하시오 (즉, 문자열 S에서 l을 만들어라)\n",
    "<pre>\n",
    "s = '  first star   :   second star   :    third star  '\n",
    "l = ['first star', 'second star', 'third star']\n",
    "</pre>\n",
    "  - 1) for ~ in 문을 이용한 코드를 작성하시오. \n",
    "  - 2) 리스트 내포(list comprehension)를 이용한 코드를 작성하시오."
   ]
  },
  {
   "cell_type": "code",
   "execution_count": 33,
   "metadata": {
    "colab": {
     "base_uri": "https://localhost:8080/"
    },
    "executionInfo": {
     "elapsed": 343,
     "status": "ok",
     "timestamp": 1634799492907,
     "user": {
      "displayName": "장현수",
      "photoUrl": "https://lh3.googleusercontent.com/a/default-user=s64",
      "userId": "10116768651020556831"
     },
     "user_tz": -540
    },
    "id": "nGxQffSjnQaW",
    "outputId": "a56770fb-0e10-48d2-8608-c123e18967a5"
   },
   "outputs": [
    {
     "name": "stdout",
     "output_type": "stream",
     "text": [
      "['first star', 'second star', 'third star']\n",
      "['first star', 'second star', 'third star']\n"
     ]
    }
   ],
   "source": [
    "s = '  first star   :   second star   :    third star  '\n",
    "\n",
    "# 1 for in\n",
    "l_1 = list()\n",
    "for item in s.split(':'):\n",
    "    l_1.append(item.strip())\n",
    "\n",
    "# 2 list comprehension\n",
    "l_2 = [item.strip() for item in s.split(':')]\n",
    "\n",
    "print(l_1)\n",
    "print(l_2)"
   ]
  },
  {
   "cell_type": "markdown",
   "metadata": {
    "id": "uvPjAtKuz-Rw"
   },
   "source": [
    "#### 설명\n",
    "1. for in에 s.split(':') 된 list를 넣어준다. 내부를 iterator를 통하여 순회하며 이를 값들에 strip()를 시도하고 이 값을 l_1에 추가한다.\n",
    "2. list comprehension를 통하여 1번과 같은 방법을 사용한다."
   ]
  },
  {
   "cell_type": "markdown",
   "metadata": {
    "id": "_fz8U2v0ouQl"
   },
   "source": [
    "## Problem 5"
   ]
  },
  {
   "cell_type": "markdown",
   "metadata": {
    "id": "qeGPqNHi3qyp"
   },
   "source": [
    "5.  다음과 같이 0보다 큰 정수 리스트 변수 list를 인자로 받는 함수 addall(list)와 addallodd(list)를 for ~ in 리터널과 리스트 내포 방식으로 각각 제시하시오.\n",
    "  - 1) addall(list) 함수 (리스트 내의 모든 정수를 더하는 함수로서 해답으로는 for ~ in 리터럴과 리스트 내포 방식으로 각각 제시하시오.)\n",
    "    - <pre>>>> addall([1])\n",
    "    1</pre>\n",
    "    - <pre>>>> addall([1, 2, 3, 4, 5, 6, 7, 8, 9])\n",
    "    45</pre>\n",
    "  - 2) addallodd(list) 함수 (리스트내의 모든 홀수를 더하는 함수로서 해답으로는 for ~ in 리터럴과 리스트 내포 방식으로 각각 제시하시오.)\n",
    "    - <pre>>>> addallodd([1])\n",
    "    1</pre>\n",
    "    - <pre>>>> addallodd([1, 2, 3, 4, 5, 6, 7, 8, 9])\n",
    "    25</pre>\n",
    "  - [참고 1]: 리스트 내포 방식으로 addall() 및 addallodd()함수를 만들 때엔 리스트 내포에 의해 생성된 리스트 결과에 대해 내장 함수를 사용하는 방식을 고려해보시오 (주의: 리스트 내포 방식의 addall() 및 addallodd() 함수의 몸체는 단 1줄로 작성되어야 한다.)\n",
    "  - [참고 2]: sum() 등의 내장함수 사용 가능함"
   ]
  },
  {
   "cell_type": "code",
   "execution_count": 32,
   "metadata": {
    "colab": {
     "base_uri": "https://localhost:8080/"
    },
    "executionInfo": {
     "elapsed": 423,
     "status": "ok",
     "timestamp": 1634836884895,
     "user": {
      "displayName": "장현수",
      "photoUrl": "https://lh3.googleusercontent.com/a/default-user=s64",
      "userId": "10116768651020556831"
     },
     "user_tz": -540
    },
    "id": "mDpQGC1_pg01",
    "outputId": "55d5c3a5-126b-4ca1-b934-3766d6f21438"
   },
   "outputs": [
    {
     "name": "stdout",
     "output_type": "stream",
     "text": [
      "45\n",
      "25\n"
     ]
    }
   ],
   "source": [
    "# list comprehension\n",
    "def addall(l):\n",
    "    return sum([item for item in l if item > 0])\n",
    "\n",
    "def addallodd(l):\n",
    "    return sum([item for item in l if item % 2])\n",
    "\n",
    "print(addall([1, 2, 3, 4, 5, 6, 7, 8, 9]))\n",
    "print(addallodd([1, 2, 3, 4, 5, 6, 7, 8, 9]))"
   ]
  },
  {
   "cell_type": "code",
   "execution_count": 31,
   "metadata": {
    "colab": {
     "base_uri": "https://localhost:8080/"
    },
    "executionInfo": {
     "elapsed": 3,
     "status": "ok",
     "timestamp": 1634836594252,
     "user": {
      "displayName": "장현수",
      "photoUrl": "https://lh3.googleusercontent.com/a/default-user=s64",
      "userId": "10116768651020556831"
     },
     "user_tz": -540
    },
    "id": "IeHpQB7bs5lD",
    "outputId": "af88b0bf-72a5-4060-f9af-48d0617708a3"
   },
   "outputs": [
    {
     "name": "stdout",
     "output_type": "stream",
     "text": [
      "45\n",
      "25\n"
     ]
    }
   ],
   "source": [
    "# for in 방식\n",
    "def addall(l):\n",
    "    result = 0\n",
    "    for item in l:\n",
    "        if(item > 0):\n",
    "            result += item\n",
    "    return result\n",
    "\n",
    "def addallodd(l):\n",
    "    result = 0\n",
    "    for item in l:\n",
    "        if item % 2:\n",
    "            result += item\n",
    "    return result\n",
    "\n",
    "print(addall([1, 2, 3, 4, 5, 6, 7, 8, 9]))\n",
    "print(addallodd([1, 2, 3, 4, 5, 6, 7, 8, 9]))"
   ]
  },
  {
   "cell_type": "markdown",
   "metadata": {
    "id": "a-a33BN91-dQ"
   },
   "source": [
    "#### 설명\n",
    "1. 내포방식을 사용할 경우 내포에 조건 if item > 0의 조건을 추가하여 0이상인 결과만 더할 수 있게 접근하였다. for in 방식도 마찬가지로 if item > 0의 조건을 충족할 경우에만 result에 item을 더해주었다.\n",
    "2. 내포방식을 사용할 경우 내포에 조건 if item % 2의 조건을 추가하여 0이상인 결과만 더할 수 있게 접근하였다. for in 방식도 마찬가지로 if item % 2의 조건을 충족할 경우에만 result에 item을 더해주었다.\n",
    "3. sum을 이용하는 방법외에도 functools.reduce(lambda x,y: x + y, list_comprehension)을 이용할 수 있을 것 같다."
   ]
  },
  {
   "cell_type": "markdown",
   "metadata": {
    "id": "jR5zAWv8tfJL"
   },
   "source": [
    "## Problem 6"
   ]
  },
  {
   "cell_type": "markdown",
   "metadata": {
    "id": "jfTRXtaS3qyq"
   },
   "source": [
    "6. 다음 코드를 보고 물음에 답하시오.\n",
    "  <pre>L1 = [1, 2, 3]\n",
    "L2 = [4, 5, 6]\n",
    "d = {'low':L1, 'high':L2}\n",
    "e = d\n",
    "f = d.copy()\n",
    "print(d)\n",
    "print(e)\n",
    "print(f)\n",
    "print()\n",
    "d['low'] = [10, 20, 30]\n",
    "d['high'][1] = 500\n",
    "print(d)\n",
    "print(e)\n",
    "print(f)</pre>\n",
    "\n",
    "  - 1) 위 코드의 수행 결과 d와 e는 항상 같은 결과를 출력한다. 그 이유는 무엇인가?\n",
    "  - 2) 위 코드의 수행 결과 마지막 f의 내용은 다음과 같다. 이 때 'high' 키의 값 내용 중 500이 출력된 이유와 'low' 키의 값 내용 중 [1, 2, 3]이 출력된 이유를 설명하시오 ([hint]: shallow copy 관점에서 설명하시오.)\n",
    "  <pre>{'high': [4, 500, 6], 'low': [1, 2, 3]}</pre>\n",
    "  "
   ]
  },
  {
   "cell_type": "code",
   "execution_count": 30,
   "metadata": {
    "colab": {
     "base_uri": "https://localhost:8080/"
    },
    "executionInfo": {
     "elapsed": 478,
     "status": "ok",
     "timestamp": 1634837621898,
     "user": {
      "displayName": "장현수",
      "photoUrl": "https://lh3.googleusercontent.com/a/default-user=s64",
      "userId": "10116768651020556831"
     },
     "user_tz": -540
    },
    "id": "78UTVoZkYmP0",
    "outputId": "9ad43d3b-65fc-4484-eeb1-22a2458861fa"
   },
   "outputs": [
    {
     "name": "stdout",
     "output_type": "stream",
     "text": [
      "{'low': [1, 2, 3], 'high': [4, 5, 6]}\n",
      "{'low': [1, 2, 3], 'high': [4, 5, 6]}\n",
      "{'low': [1, 2, 3], 'high': [4, 5, 6]}\n",
      "\n",
      "{'low': [10, 20, 30], 'high': [4, 500, 6]}\n",
      "{'low': [10, 20, 30], 'high': [4, 500, 6]}\n",
      "{'low': [1, 2, 3], 'high': [4, 500, 6]}\n"
     ]
    }
   ],
   "source": [
    "L1 = [1, 2, 3]\n",
    "L2 = [4, 5, 6]\n",
    "d = {'low':L1, 'high':L2}\n",
    "e = d\n",
    "f = d.copy()\n",
    "print(d)\n",
    "print(e)\n",
    "print(f)\n",
    "print()\n",
    "d['low'] = [10, 20, 30]\n",
    "d['high'][1] = 500\n",
    "print(d)\n",
    "print(e)\n",
    "print(f)"
   ]
  },
  {
   "cell_type": "markdown",
   "metadata": {
    "id": "4TgjrvdmY4_S"
   },
   "source": [
    "#### 설명\n",
    "1. python에서는 리스트를 주소로 저장하기 때문에 사전를 변수로 저장하거나 샬로우 카피를 통하여 값을 저장하게 되면 사전를 주소로 저장하게된다. 때문에 1번의 경우에는 값의 주소를 가져왔기 때문에 e는 d의 주소 자체를 바라보고 있어 d의 값이 변화하면 당연히 e의 값도 변하게 될 것이다.\n",
    "2. 2번의 경우에는 f를 deep copy를 통하여 가져왔기 때문에  내부의 값을 바꿔도 바뀌지 않지만 이는 최상위의 변수만 deep copy하기 때문에 L1과 L2는 deepcopy하지 못하고 주소로 가져와 이를 바꾸면 같이 변경된다. 이를 해결하는 방법은 import copy에 있는 deepcopy를 사용하면 된다."
   ]
  },
  {
   "cell_type": "markdown",
   "metadata": {
    "id": "Ah32LUT4thcx"
   },
   "source": [
    "## Problem 7"
   ]
  },
  {
   "cell_type": "markdown",
   "metadata": {
    "id": "v1qVnLS73qyr"
   },
   "source": [
    "7. 사전 d = {'one':1, 'two':2, 'three':3, 'four':4, 'five':5}가 주어졌을 때 다음 요구사항에 맞는 코드를 제시하시오 \n",
    "  - [참고]: d.keys(), d.values()를 통해 리스트를 얻어낸 후 리스트가 지니고 있는 sort(cmp=None, key=None, reverse=False)함수를 활용하시오.\n",
    "  - 1) 키의 알파벳 오름차순 순서대로 튜플 (키, 값)을 차례대로 출력하시오.\n",
    "  - 2) 키의 알파벳 내림차순 순서대로 튜플 (키, 값)을 차례대로 출력하시오.\n",
    "  - 3) 값의 오름차순 순서대로 튜플 (키, 값)을 차례대로 출력하시오. \n",
    "  - 4) 값의 내림차순 순서대로 튜플 (키, 값)을 차례대로 출력하시오."
   ]
  },
  {
   "cell_type": "code",
   "execution_count": 29,
   "metadata": {
    "colab": {
     "base_uri": "https://localhost:8080/"
    },
    "executionInfo": {
     "elapsed": 446,
     "status": "ok",
     "timestamp": 1634838050112,
     "user": {
      "displayName": "장현수",
      "photoUrl": "https://lh3.googleusercontent.com/a/default-user=s64",
      "userId": "10116768651020556831"
     },
     "user_tz": -540
    },
    "id": "HJy4s0D2tq8Q",
    "outputId": "ce2523d2-eefc-4091-be39-0027ef74369d"
   },
   "outputs": [
    {
     "name": "stdout",
     "output_type": "stream",
     "text": [
      "[('five', 5), ('four', 4), ('one', 1), ('three', 3), ('two', 2)]\n",
      "[('two', 2), ('three', 3), ('one', 1), ('four', 4), ('five', 5)]\n",
      "[('one', 1), ('two', 2), ('three', 3), ('four', 4), ('five', 5)]\n",
      "[('five', 5), ('four', 4), ('three', 3), ('two', 2), ('one', 1)]\n"
     ]
    }
   ],
   "source": [
    "d = {'one':1, 'two':2, 'three':3, 'four':4, 'five':5}\n",
    "d_items = list(d.items())\n",
    "\n",
    "# 1\n",
    "d_items.sort(key=lambda x:x[0])\n",
    "print(d_items)\n",
    "# 2\n",
    "d_items.sort(key=lambda x:x[0], reverse=True)\n",
    "print(d_items)\n",
    "# 3\n",
    "d_items.sort(key=lambda x:x[1])\n",
    "print(d_items)\n",
    "# 4\n",
    "d_items.sort(key=lambda x:x[1], reverse=True)\n",
    "print(d_items)"
   ]
  },
  {
   "cell_type": "markdown",
   "metadata": {
    "id": "US5p6luF6yU6"
   },
   "source": [
    "#### 설명\n",
    "0. 우선 d의 item을 가져오기 위하여 items를 통하여 tupple를 저장하는 list의 형태로 item를 받아온다. \n",
    "1. 위의 리스트를 sort한다. 인자로는 key에 x[0]을 넣어주어 key를 통하여 sorting하도록 유도하였고 cmp는 기본 형태가 오름차순임으로 그냥 사용해주었다.\n",
    "2. 위의 리스트를 sort한다. 인자로는 key에 x[0]을 넣어주어 key를 통하여 sorting하도록 유도하였고 cmp는 기본 형태가 오름차순임으로 유지하는 대신 reserve에 True를 주어 내림차순으로 바꾸어주었다.\n",
    "3. 위의 리스트를 sort한다. 인자로는 key에 x[1]을 넣어주어 value를 통하여 sorting하도록 유도하였고 cmp는 기본 형태가 오름차순임으로 그냥 사용해주었다.\n",
    "4. 위의 리스트를 sort한다. 인자로는 key에 x[1]을 넣어주어 value를 통하여 sorting하도록 유도하였고 cmp는 기본 형태가 오름차순임으로 유지하는 대신 reserve에 True를 주어 내림차순으로 바꾸어주었다."
   ]
  },
  {
   "cell_type": "markdown",
   "metadata": {
    "id": "MwHJwV0mtkpB"
   },
   "source": [
    "## Problem 8"
   ]
  },
  {
   "cell_type": "markdown",
   "metadata": {
    "id": "fw0AihTO3qyr"
   },
   "source": [
    "8. 다음 문제를 정확히 읽고 적합한 코딩을 제시하시오.\n",
    "  - **length(X)**를 다음과 같이 정의한다 : 10진수로 표현된 X의 자릿수\n",
    "  - **Strange**라는 숫자를 아래과 같이 정의한다.<br>\n",
    "    - 음이 아닌 정수 중 자릿수가 1인 모든 숫자는 **Strange**이다.<br>\n",
    "    - **length(X)** > 1 인 숫자 X 는 다음 2가지를 만족하면 **Strange**이다.\n",
    "      - X는 **length(X)**로 정확히 나누어 떨어진다.\n",
    "      - X / length(X) 가 **strnage**이다.<br>\n",
    "      <br>\n",
    "  - 이 문제에서 숫자 하나가 주어질 때, 이 숫자가 Strange인지 판단하는 함수 isStrange(num)을 작성하시오.<br>\n",
    "  - isStrange(num) 함수가 재귀적인 함수가 되도록 작성해 보세요."
   ]
  },
  {
   "cell_type": "code",
   "execution_count": 28,
   "metadata": {
    "colab": {
     "base_uri": "https://localhost:8080/"
    },
    "executionInfo": {
     "elapsed": 436,
     "status": "ok",
     "timestamp": 1634838914887,
     "user": {
      "displayName": "장현수",
      "photoUrl": "https://lh3.googleusercontent.com/a/default-user=s64",
      "userId": "10116768651020556831"
     },
     "user_tz": -540
    },
    "id": "ucVBVN7b3qys",
    "outputId": "5838d74e-9d22-4285-d714-5a49641604fe"
   },
   "outputs": [
    {
     "name": "stdout",
     "output_type": "stream",
     "text": [
      "True\n",
      "True\n",
      "False\n",
      "True\n",
      "False\n"
     ]
    }
   ],
   "source": [
    "def isStrange(num):\n",
    "    '''\n",
    "    함수 포맷 변경하지 마세요.\n",
    "    재귀적인 함수는 함수 안에서 자기 자신 함수를 호출하는 것을 말합니다.\n",
    "    '''\n",
    "    length = lambda x: len(str(x))\n",
    "\n",
    "    if length(num) == 1: return True\n",
    "    if length(num) > 1 and num % length(num) != 0: return False\n",
    "    else: return isStrange(num // length(num))\n",
    "\n",
    "print(isStrange(0))\n",
    "print(isStrange(56))\n",
    "print(isStrange(100))\n",
    "print(isStrange(7882602506492313600))\n",
    "print(isStrange(6012302549522098651))"
   ]
  },
  {
   "cell_type": "markdown",
   "metadata": {
    "id": "kIeqk-NF3qys"
   },
   "source": [
    "- [예시]\n",
    "  ```\n",
    "  1. num = 0                      =>    True\n",
    "  2. num = 56                     =>    True\n",
    "  3. num = 100                    =>    False\n",
    "  4. num = 7882602506492313600    =>    True\n",
    "  5. num = 6012302549522098651    =>    False\n",
    "  ```"
   ]
  },
  {
   "cell_type": "markdown",
   "metadata": {
    "id": "B-8gbBAz8XuK"
   },
   "source": [
    "#### 설명\n",
    "1. length를 만들어주었다. int를 str으로 바꾼 후 len를 사용하여 숫자의 길이를 확인하였다.\n",
    "2. 종료조건으로는 length(num) == 1이 되면 문제 설명처럼 True를 리턴 후 종료한다. length(num) > 1 and num % num % length(num) != 0라면 False를 리턴 후 종료한다.\n",
    "3. length(num) > 1 and num % num % length(num) != 0가 아니라면 num을 length 나눈 값도 isStrange를 만족해야 함으로 isStrange(num // length(num))를 실행한다. 여기서 //를 사용하는 이유는 부동소수점 오차때문에 사용하였다."
   ]
  },
  {
   "cell_type": "markdown",
   "metadata": {
    "id": "HrwIY0Mi3qyt"
   },
   "source": [
    "---"
   ]
  },
  {
   "cell_type": "markdown",
   "metadata": {
    "id": "8zLhrh-ftom5"
   },
   "source": [
    "## Problem 9"
   ]
  },
  {
   "cell_type": "markdown",
   "metadata": {
    "id": "PoNB91Fs3qyt"
   },
   "source": [
    "9. 다음 문제를 정확히 읽고 적합한 코딩을 제시하시오.\n",
    "\n",
    "  - 1번 그룹, 2번 그룹, ... n번 그룹으로 번호가 매겨진 **총 n개의 그룹**이 존재하고, **i<sup>th</sup>** 그룹에는 임의의 팀원 수 **a<sub>i</sub>** 명이 있다.<br>\n",
    "  하나의 버스 정류장이 있고, 버스는 오직 한 대만 운영한다. 버스는 버스 정류장에 도착하고 모든 그룹은 버스를 통해 여행하길 원한다.<br>\n",
    "  하지만, 같은 그룹에 속한 팀원들은 분리되기를 원치 않는다. 그래서 그룹의 모든 팀원이 탈 수 있을 때 에만 그 그룹은 버스에 탑승한다.<br>\n",
    "  또한, 이들은 그룹의 번호순으로 여행을 하길 원한다. 예를 들어, 3번 그룹은 1번 그룹과 2번 그룹이 여행을 한 뒤에 버스를 탈 수 있거나, 1번 그룹과 2번 그룹이 이미 버스에 탑승한 상태에 있을 때 동시에 버스를 탈 수 있다.<br>\n",
    "  마지막으로, 버스는 빈 좌석이 없을 때 에만 여행을 떠난다.<br>\n",
    "  <br>\n",
    "  - 이 문제에서 각 그룹의 팀원 수가 리스트로 주어질 때, 가능한 모든 버스의 사이즈 **x**(x명의 사람들이 동시에 탈 수 있음)를 반환하는 함수 solve(a) 를 작성하시오.\n",
    "  - [주의] 반드시 계산 복잡도를 최대한 낮추세요. 아래 예시 3번을 실행했을 때 결과가 바로 나타날 수 있도록!!"
   ]
  },
  {
   "cell_type": "code",
   "execution_count": 25,
   "metadata": {
    "colab": {
     "base_uri": "https://localhost:8080/"
    },
    "executionInfo": {
     "elapsed": 980,
     "status": "ok",
     "timestamp": 1634839619431,
     "user": {
      "displayName": "장현수",
      "photoUrl": "https://lh3.googleusercontent.com/a/default-user=s64",
      "userId": "10116768651020556831"
     },
     "user_tz": -540
    },
    "id": "jfzC27io7mGY",
    "outputId": "4abfee0a-628c-494c-8425-a15d9fb5b790"
   },
   "outputs": [
    {
     "name": "stdout",
     "output_type": "stream",
     "text": [
      "[3, 4, 6, 12]\n",
      "[9999, 19998, 39996, 49995, 79992, 99990, 159984, 199980, 249975, 319968, 399960, 499950, 799920, 999900, 1249875, 1599840, 1999800, 2499750, 3999600, 4999500, 6249375, 7999200, 9999000, 12498750, 19998000, 24997500, 31246875, 39996000, 49995000, 62493750, 99990000, 124987500, 199980000, 249975000, 499950000, 999900000]\n"
     ]
    }
   ],
   "source": [
    "def getDivisor(n):\n",
    "    divisors = []\n",
    "    divisors_back = [] \n",
    "\n",
    "    for i in range(1, int(n**(1/2)) + 1): \n",
    "        if (n % i == 0):            \n",
    "            divisors.append(i)\n",
    "            if (i != (n // i)): \n",
    "                divisors_back.append(n//i)\n",
    "\n",
    "    return divisors + divisors_back[::-1]\n",
    "\n",
    "def checkBus(a, x):\n",
    "    s = 0\n",
    "    for item in a:\n",
    "        if(s + item > x): return False\n",
    "        elif(s + item == x): s = 0\n",
    "        else: s += item\n",
    "  \n",
    "    return s == 0\n",
    "\n",
    "def solve(a):\n",
    "    s = sum(a)\n",
    "    m = max(a)\n",
    "    l = [item for item in getDivisor(s) if item >= m and checkBus(a, item)]\n",
    "    return l\n",
    "\n",
    "print(solve([1, 2, 1, 1, 1, 2, 1, 3]))\n",
    "print(solve([9999] * 10**5))"
   ]
  },
  {
   "cell_type": "markdown",
   "metadata": {
    "id": "gr6Wz8K23qyt"
   },
   "source": [
    "- [예시]\n",
    "  ```\n",
    "  1. a = [1, 2, 1, 1, 1, 2, 1, 3]    =>    [3, 4, 6, 12]\n",
    "  2. a = [1, 1, 1, 1]                =>    [1, 2, 4]\n",
    "  3. a = [9999] * 10**5              =>    \n",
    "  [9999,19998,39996,49995,79992,99990,159984,199980,249975,319968,399960,499950,799920,999900,1249875,1599840,1999800,2499750,3999600,4999500,6249375,7999200,9999000,12498750,19998000,24997500,31246875,39996000,49995000,62493750,99990000,124987500,199980000,249975000,499950000,999900000]\n",
    "  ```"
   ]
  },
  {
   "cell_type": "markdown",
   "metadata": {
    "id": "9tlgXf2J_q_m"
   },
   "source": [
    "#### 설명\n",
    "0. 위의 문제를 확인하면 결국 n번 버스를 움직인다고 하여도 전체 그룹의 합계를 s라고 하였을 때 n * x = s를 성립하여야 한다. 이를 이때 변수 모두는 양수인 정수형 변수임으로 x는 s의 약수라고 할 수 있다. 때문에 s의 약수를 구하고 이가 가능한지 확인한다면 결과를 구할 수 있다는 가설을 내렸다.\n",
    "1. getDivisor는 조사를 통해 약수를 구하는 방법을 찾을 수 있었다. 방법은 우선 root(n)까지의 약수를 구하며 구해진 약수을 n으로 다시 나누어진 몫을 구하여 둘을 구할 수 있었다. [::-1]를 사용한 이유는 sorting되 값을 사용하기 위해서였다.\n",
    "2. checkBus는 위에서 구한 약수가 버스의 크기가 될 수 있는지 확인하기 위하여 리스트의 값을 더해보면서 가능한지 확인하고 순서대로 더했을 경우 x보다 커진다면 False를 리턴하고 마지막에 s == 0이라면 True를 반환고 반대라면 False를 리텅하였다.\n",
    "3. 위에서 만든 getDivisor와 checkBus 사용하여 list comprehension를 사용하여 결과 리스트를 생성하였다."
   ]
  },
  {
   "cell_type": "markdown",
   "metadata": {
    "id": "IEszXzyF3qyu"
   },
   "source": [
    "---"
   ]
  },
  {
   "cell_type": "markdown",
   "metadata": {
    "id": "Cek8ZgyT3qyu"
   },
   "source": [
    "### [Incremental Project 문제] "
   ]
  },
  {
   "cell_type": "markdown",
   "metadata": {
    "id": "vwK3_sjL3qyu"
   },
   "source": [
    "#### 이전 Assignment 2의 마지막 문제는 웹 URL로 지정된 웹페이지를 문자열로 가져와 모든 HTML 태그를 제외한 순수 텍스트를 얻어내고 그 안에 존재하는 단어를 추출하고 단어들의 총 개수를 출력하는 프로그램을 작성하는 것이었다. 이번에는 그 마지막 숙제를 그대로 확장하여 웹 URL로 지정된 웹페이지 내 순수 텍스트 안에 존재하는 각 단어들에 대해 다음 요구사항 대로 출력하는 프로그램을 작성하시오.\n",
    "  - 요구사항 1. CSS와 Javascript 내용도 모두 제거하시오 (이전 숙제에서 이미 제외하였다면 본 요구사항 무시)\n",
    "    - 즉, 아래와 같은 코드는 <style\\> 및 <script\\>태그 뿐만 아니라 그 안의 내용 전체를 모두 제거\n",
    "      ```\n",
    "    <style>\n",
    "      h1 {\n",
    "        color: blue;\n",
    "      }\n",
    "      </style>\n",
    "    ```  \n",
    "    \n",
    "        ```\n",
    "      <script>\n",
    "      int a = 10;\n",
    "      ...\n",
    "      </script>\n",
    "    ```\n",
    "  - 요구사항 2. 순수 텍스트 안에 존재하는 단어들에 대해 string 모듈을 활용하여 모든 punctuation (구두문자)를 완벽히 제거하시오.\n",
    "    - 예: ['world!', ':', '+hello+', '~python$$$', '=', 'world'] ---> ['world', 'hello', 'python', 'world']\n",
    "    - 모든 punctuation을 확인하는 방법은 아래와 같다.\n",
    "    <pre>\n",
    "    import string\n",
    "    print(string.punctuation)\n",
    "    </pre>\n",
    "  - 요구사항 3. 만약 punctuation (구두문자)를 제거한 이후 공백으로 판명되는 단어들은 해당 단어 리스트에서 제거하시오.\n",
    "    - 예: ['컴퓨터공학부!', '---?', '%지향~', '...'] ---> ['컴퓨터공학부', '', '지향', ''] ---> ['컴퓨터공학부', '지향'] \n",
    " <br/><br/>   \n",
    "  - 요구사항 3. 각 단어들의 출현빈도를 사전형태로 저장하여 출력하시오.\n",
    "    - 예: ['world', 'hello', 'python', 'world', '컴퓨터공학부', '지향'] ---> {'world': 2, 'hello': 1, 'python': 1, '컴퓨터공학부': 1, '지향': 1}\n",
    " <br/><br/>   \n",
    "  - 요구사항 4. 다음 5개의 사이트에 대한 단어 출현빈도 결과를 출력하시오.\n",
    "    - http://cse.koreatech.ac.kr\n",
    "    - https://www.koreatech.ac.kr\n",
    "    - http://www.naver.com\n",
    "    - http://www.daum.net\n",
    "    - http://www.nytimes.com    "
   ]
  },
  {
   "cell_type": "markdown",
   "metadata": {
    "id": "0SBoCkzR3-uz"
   },
   "source": [
    "#### 이전 코드"
   ]
  },
  {
   "cell_type": "code",
   "execution_count": 17,
   "metadata": {
    "executionInfo": {
     "elapsed": 2,
     "status": "ok",
     "timestamp": 1634832149796,
     "user": {
      "displayName": "장현수",
      "photoUrl": "https://lh3.googleusercontent.com/a/default-user=s64",
      "userId": "10116768651020556831"
     },
     "user_tz": -540
    },
    "id": "RFFaqzT23qyu"
   },
   "outputs": [],
   "source": [
    "import requests\n",
    "\n",
    "def sub(s, l, r):\n",
    "    origin_l, tmp1 = s.split(l,1)\n",
    "    tmp2, origin_r = tmp1.split(r,1)\n",
    "    return origin_l + \" \" + origin_r\n",
    "    \n",
    "\n",
    "def getWord(source):\n",
    "    \n",
    "    # 주석 삭제\n",
    "    while source.find(\"//<\") != -1:\n",
    "        source = sub(source, \"//<\", \">\")\n",
    "\n",
    "    # 요소내부에서 앵커요소 나오는 경우가 있는데 어떻게 처리해야할지 모르겠습니다.\n",
    "    # 예시. <a href=\\\" < url > https://gallery.v.daum.net/p/premium/excavation/cSCjAyizEy</url>\\\" class=\\\"link_thumb photo_pic1\\\" data-tiara-action-name=\\\"오늘의 포토_데이터 운영_하단 썸네일\\\" data-tiara-layer=\\\"thumbnail\\\">\n",
    "    while source.find(\"<url>\") != -1:\n",
    "        source = sub(source, \"<url>\",\"</url>\")\n",
    "        \n",
    "    while source.find(\"<text>\") != -1:\n",
    "        source = sub(source, \"<text>\",\"</text>\")\n",
    "        \n",
    "    # <script> 삭제\n",
    "    while source.find(\"<script\") != -1:\n",
    "        source = sub(source, \"<script\", \"</script>\")\n",
    "    \n",
    "    # <style> 삭제\n",
    "    while source.find(\"<style\") != -1:\n",
    "        source = sub(source, \"<style\", \"</style>\")\n",
    "\n",
    "    cursor = source\n",
    "\n",
    "    while cursor.find(\"<\") != -1:\n",
    "        cursor = sub(cursor,\"<\",\">\")\n",
    "    \n",
    "    cursor = cursor.replace(\"\\t\",\"\")\n",
    "    cursor = cursor.replace(\"\\n\",\"\")\n",
    "    cursor = cursor.replace(\"\\r\",\"\")\n",
    "    result = cursor.split(' ')\n",
    "    \n",
    "    for _ in range(result.count('')):\n",
    "        result.remove('')\n",
    "    \n",
    "    return result;"
   ]
  },
  {
   "cell_type": "markdown",
   "metadata": {
    "id": "5Kh8U-HN4TGb"
   },
   "source": [
    "#### 실제 코드"
   ]
  },
  {
   "cell_type": "code",
   "execution_count": 18,
   "metadata": {
    "executionInfo": {
     "elapsed": 442,
     "status": "ok",
     "timestamp": 1634840981007,
     "user": {
      "displayName": "장현수",
      "photoUrl": "https://lh3.googleusercontent.com/a/default-user=s64",
      "userId": "10116768651020556831"
     },
     "user_tz": -540
    },
    "id": "1OQGIi8q4bt-"
   },
   "outputs": [],
   "source": [
    "import string\n",
    "\n",
    "def removePunctuation(s):\n",
    "    result = list()\n",
    "  \n",
    "    for item in s:\n",
    "        for token in string.punctuation:\n",
    "            item = item.replace(token,\"\");\n",
    "        result.append(item);\n",
    "\n",
    "    for _ in range(result.count('')):\n",
    "        result.remove('')\n",
    "    \n",
    "    return result\n",
    "\n",
    "\n",
    "def getFrequency(l):\n",
    "    d_result = {item : 0 for item in l}\n",
    "    for item in l:\n",
    "        d_result[item] += 1\n",
    "\n",
    "    d_result = sorted(list(d_result.items()), key=lambda x: x[1], reverse=True)\n",
    "  \n",
    "    return d_result\n",
    "\n",
    "# 한 번에 실행\n",
    "def makeData(s):\n",
    "    return getFrequency(removePunctuation(getWord(requests.get(s).text)))"
   ]
  },
  {
   "cell_type": "code",
   "execution_count": 22,
   "metadata": {
    "colab": {
     "base_uri": "https://localhost:8080/"
    },
    "executionInfo": {
     "elapsed": 4267,
     "status": "ok",
     "timestamp": 1634840987079,
     "user": {
      "displayName": "장현수",
      "photoUrl": "https://lh3.googleusercontent.com/a/default-user=s64",
      "userId": "10116768651020556831"
     },
     "user_tz": -540
    },
    "id": "CEI_OytX4wNW",
    "outputId": "455a4218-68fa-46e1-eb45-74d6110addbe"
   },
   "outputs": [],
   "source": [
    "source1 = getWord(requests.get('http://www.naver.com').text)\n",
    "source2 = getWord(requests.get('https://www.koreatech.ac.kr').text)\n",
    "source3 = getWord(requests.get('http://www.daum.net').text)\n",
    "source4 = getWord(requests.get('http://cse.koreatech.ac.kr').text)\n",
    "source5 = getWord(requests.get('http://www.nytimes.com').text)\n",
    "\n",
    "source1 = removePunctuation(source1)\n",
    "source2 = removePunctuation(source2)\n",
    "source3 = removePunctuation(source3)\n",
    "source4 = removePunctuation(source4)\n",
    "source5 = removePunctuation(source5)\n",
    "\n",
    "result1 = getFrequency(source1)\n",
    "result2 = getFrequency(source2)\n",
    "result3 = getFrequency(source3)\n",
    "result4 = getFrequency(source4)\n",
    "result5 = getFrequency(source5)\n",
    "\n",
    "# print(result1)\n",
    "# print(result2)\n",
    "# print(result3)\n",
    "# print(result4)\n",
    "# print(result5)\n"
   ]
  },
  {
   "cell_type": "markdown",
   "metadata": {
    "id": "MOEKbs_2ENBF"
   },
   "source": [
    "#### 설명\n",
    "- 우선 CSS와 Javascript 내용은 이전에 제거하였다.\n",
    "```py\n",
    "# <script> 삭제\n",
    "    while source.find(\"<script\") != -1:\n",
    "        source = sub(source, \"<script\", \"</script>\")\n",
    "    \n",
    "    # <style> 삭제\n",
    "    while source.find(\"<style\") != -1:\n",
    "        source = sub(source, \"<style\", \"</style>\")\n",
    "```\n",
    "- 공백 제거 또한 이전에 미리 제거하였다.\n",
    "```py\n",
    "cursor = cursor.replace(\"\\t\",\"\")\n",
    "cursor = cursor.replace(\"\\n\",\"\")\n",
    "cursor = cursor.replace(\"\\r\",\"\")\n",
    "```\n",
    "- 구두문자는 string.punctuation를 이용하여 모든 구두문자를 확인 후 제거하였다. 추가적으로 구두문자가 사라져 생긴 빈문자열도 삭제하였다.\n",
    "```py\n",
    "def removePunctuation(s):\n",
    "  result = list()\n",
    "  \n",
    "  for item in s:\n",
    "    for token in string.punctuation:\n",
    "      item = item.replace(token,\"\");\n",
    "    result.append(item);\n",
    "\n",
    "  for _ in range(result.count('')):\n",
    "    result.remove('')\n",
    "    \n",
    "  return result\n",
    "```\n",
    "- 리스트를 key로하고 value를 0으로 가지는 사전을 생성한 후 l를 다시 순회하여 item의 개수를 계산하였다. 마지막으로 이를 개수로 sorting한 후 리턴해주었다.\n",
    "```py\n",
    "def getFrequency(l):\n",
    "  d_result = dict()\n",
    "  d_result = {item : 0 for item in l}\n",
    "  for item in l:\n",
    "    d_result[item] += 1\n",
    "\n",
    "  d_result = sorted(list(d_result.items()), key=lambda x: x[1], reverse=True)\n",
    "  \n",
    "  return d_result\n",
    "```"
   ]
  },
  {
   "cell_type": "markdown",
   "metadata": {
    "id": "diW2oAF6IhYs"
   },
   "source": [
    "---"
   ]
  },
  {
   "cell_type": "markdown",
   "metadata": {
    "id": "5NjclhSjIQdd"
   },
   "source": [
    "## 소감\n",
    "1. 아직 알고리즘을 더 풀어봐야 겠다고 생각하는 과제였다.\n",
    "2. 특히 floating 오류를 너무 늦게 찾아 오래걸렸다.\n",
    "3. 내포를 사용하면서 굉장히 편했다. 람다도 굉장히 편했다."
   ]
  }
 ],
 "metadata": {
  "anaconda-cloud": {},
  "colab": {
   "collapsed_sections": [],
   "name": "assignment-3.ipynb",
   "provenance": []
  },
  "kernelspec": {
   "display_name": "Python 3 (ipykernel)",
   "language": "python",
   "name": "python3"
  },
  "language_info": {
   "codemirror_mode": {
    "name": "ipython",
    "version": 3
   },
   "file_extension": ".py",
   "mimetype": "text/x-python",
   "name": "python",
   "nbconvert_exporter": "python",
   "pygments_lexer": "ipython3",
   "version": "3.8.11"
  }
 },
 "nbformat": 4,
 "nbformat_minor": 1
}
