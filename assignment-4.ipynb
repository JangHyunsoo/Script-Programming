{
 "cells": [
  {
   "cell_type": "markdown",
   "metadata": {
    "id": "DsFvOHSSUdkp"
   },
   "source": [
    "# Assignment 4\n",
    "### [정보]\n",
    "#### 1) Due Date: 2021년 11월 26일 (금), 23시 59분\n",
    "\n",
    "#### 2) 제출방법: 수업 홈페이지 하단의 \"[숙제 제출 방법]\" 참고\n",
    "\n",
    "#### 3) 내용: 반드시 python code와 수행 결과를 jupyter notebook 내에 작성하여 넣고, 이에 대한 설명 등을 해당 코드 아래에 markdown cell 등에 넣어 기입하시오.\n",
    "\n",
    "#### 4) 숙제이후 소감 작성: 8개의 문제의 답을 모두 작성한 이후에 현재까지 강의를 들은 후의 소감, 숙제를 한 이후의 소감, 또는 전하고자 하는 말 등을 짧막하게라도 좋으니 jupyter notebook 마지막 markdown cell에 함께 작성하여 제출하시오.\n",
    "\n",
    "#### 5) 반드시 본인 스스로 문제를 해결하세요~~~"
   ]
  },
  {
   "cell_type": "markdown",
   "metadata": {
    "id": "lOGQhRcrUdks"
   },
   "source": [
    "### [일반 문제]"
   ]
  },
  {
   "cell_type": "markdown",
   "metadata": {},
   "source": [
    "## Problem 1"
   ]
  },
  {
   "cell_type": "markdown",
   "metadata": {
    "id": "9B9rF5FqUdkt"
   },
   "source": [
    "1. 다음 문제를 읽고 알맞은 코드를 제시하시오.\n",
    "\n",
    "  - 1) 파일 s.txt 내의 다음 내용과 함께 아래 문제의 코드를 제시하시오. \n",
    ">pig ham<br/>\n",
    ">cat dog<br/>\n",
    ">ham bird<br/>\n",
    ">dog pig<br/>\n",
    "\n",
    "  - 2) 파일 s.txt을 읽어서 각 라인에 있는 첫 번째 단어(문자열) 자체들을 기준으로 라인별 정렬후 파일 s1.txt에 그 결과를 기록하는 코드를 작성하시오. 즉, 프로그램 수행 후 s1.txt에 있는 파일 내용은 다음과 같다.\n",
    ">cat dog<br/>\n",
    ">dog pig<br/>\n",
    ">ham bird<br/>\n",
    ">pig ham<br/>\n",
    "\n",
    "  - 3) 파일 s.txt을 읽어서 각 라인에 있는 두 번째 단어(문자열) 자체들을 기준으로 라인별 정렬후 파일 s2.txt에 그 결과를 기록하는 코드를 작성하시오. 즉, 프로그램 수행 후 s2.txt에 있는 파일 내용은 다음과 같다.\n",
    ">ham bird<br/>\n",
    ">cat dog<br/>\n",
    ">pig ham<br/>\n",
    ">dog pig<br/>\n",
    "\n",
    "  - 4) 파일 s.txt을 읽어서 각 라인들에 있는 모든 단어들을 순차적으로 다시 나열하되 각 라인에 세 개의 단어들이 오도록 하여 s3.txt에 기록하는 코드를 작성하시오. 즉, 프로그램 수행 후 s3.txt에 있는 파일 내용은 다음과 같다.\n",
    ">pig ham cat<br/>\n",
    ">dog ham bird<br/>\n",
    ">dog pig<br/>"
   ]
  },
  {
   "cell_type": "code",
   "execution_count": 330,
   "metadata": {
    "scrolled": true
   },
   "outputs": [
    {
     "name": "stdout",
     "output_type": "stream",
     "text": [
      "pig ham\n",
      "cat dog\n",
      "ham bird\n",
      "dog pig\n",
      "\n"
     ]
    }
   ],
   "source": [
    "# 1)\n",
    "with open(\"s.txt\", \"w\") as f:\n",
    "    f.write(\"\"\"pig ham\n",
    "cat dog\n",
    "ham bird\n",
    "dog pig\n",
    "\"\"\")\n",
    "\n",
    "# 2)\n",
    "with open(\"s.txt\", \"r\") as f:\n",
    "    with open(\"s1.txt\", \"w\") as f1:\n",
    "        lines = sorted(f.readlines())\n",
    "        for line in lines:\n",
    "            f1.write(line)\n",
    "\n",
    "# 3)\n",
    "with open(\"s.txt\", \"r\") as f:\n",
    "    with open(\"s2.txt\", \"w\") as f1:\n",
    "        lines = sorted(f.readlines(), key=lambda x: x.split()[1])\n",
    "        for line in lines:\n",
    "            f1.write(line)\n",
    "            \n",
    "# 4)\n",
    "with open(\"s.txt\", \"r\") as f:\n",
    "    with open(\"s3.txt\", \"w\") as f3:\n",
    "        lines = f.read().split()\n",
    "        result = []\n",
    "        while lines:\n",
    "            line = ' '.join(lines[:3])\n",
    "            lines = lines[3:]\n",
    "            result.append(line)\n",
    "        f3.write('\\n'.join(result))\n",
    "\n",
    "\n",
    "with open(\"s.txt\", \"r\") as f:\n",
    "    print(f.read())"
   ]
  },
  {
   "cell_type": "markdown",
   "metadata": {},
   "source": [
    "설명\n",
    "- 1번에서는 s.txt 파일을 str으로 받아 출력해주었다.\n",
    "- 2번에서는 s1.txt에 s.txt를 받아 sorted를 통하여 출력해주었다. key를 따로 주진 않았다.\n",
    "- 3번에서는 s2.txt에 s.txt를 받아 sorted를 통하여 출력해주었다. key는 split()[1]를 통하여 두전째 단어를 key로 지정하였다.\n",
    "- 4번에서는 s3.txt에 s.txt를 받아 연산을 통하여 출력하였다. 로직은 line를 공백문자롤 짤라 단어 하나 하나로 만들어준 후 이를 3개씩 pop해주는 queue같은 방식으로 만들어주고 이가 없어질 때까지 진행 후 이들을 '\\n'.join를 통하여 줄바꿈 후 마쳤다."
   ]
  },
  {
   "cell_type": "markdown",
   "metadata": {},
   "source": [
    "## Problem 2"
   ]
  },
  {
   "cell_type": "markdown",
   "metadata": {
    "id": "6qR3nXjPUdku"
   },
   "source": [
    "2. 다음과 같은 조건들을 참고하여 회원 가입 및 로그인 프로그램을 작성하시오. \n",
    "  - 1) 프로그램 시작 후 다음과 같은 메시지가 출력되어 1, 2, 3 중 하나의 값을 입력 받도록 한다.\n",
    ">Welcome to Our Service<br/>\n",
    ">1. Sign Up<br/>\n",
    ">2. Sign In<br/>\n",
    ">3. Quit<br/>\n",
    "  - 2) 1을 선택하면 ID, Password, Name, School의 4가지 정보를 입력받아 파일에 저장하는 프로그램을 작성한다.\n",
    "    - 2-1) 입력된 내용은 access.txt 라는 이름의 텍스트 파일 내에 저장된다. \n",
    "    - 2-2) access.txt 파일의 각 라인에는 가입된 회원 각각의 정보가 \"[id]: [password], [name], [school]\" 형태로 저장된다.\n",
    "    - 2-3) 즉, 가입 회원이 10명이면 access.txt 파일 내에 라인 수도 정확히 10개이다.\n",
    "    - 2-4) 암호화 방식은 sha 모듈을 활용한다. sha 모듈 활용 방법은 본 문제의 마지막에 제시된 sha 활용 예를 참고한다.\n",
    "      - 즉, access.txt 파일 내에 password 정보는 암호화 되어 저장되어야 한다.\n",
    "    - 2-5) 회원 정보를 입력 받을 때 id를 입력 받은 직후 access.txt를 확인하여 이미 존재하는 id가 입력되었다면 다음 메시지를 출력하고 id 정보를 다시 입력받는다.\n",
    "      - Sorry, the entered ID is already used.\n",
    "  - 3) 2를 선택하면 ID, Password의 2가지 정보를 입력받는 프로그램을 작성한다.\n",
    "    - 3-1) 입력된 ID 정보가 access.txt에 존재하지 않으면 다음과 같은 메시지를 출력하고 다시 입력받는다.\n",
    "      - Sorry, you are not a registered member.\n",
    "    - 3-2) 입력된 ID가 올바르게 존재하지만 Password 정보가 access.txt 파일에 있는 정보와 불일치하면 다음과 같은 메시지를 출력하고 Password를 다시 입력받는다.\n",
    "      - Sorry, the entered password is not correct.\n",
    "      - 이 때에도 사용자가 입력한 Password 정보와 함께 sha 모듈이 활용되어야 한다.\n",
    "    - 3-3) 입력된 ID와 Password가 모두 올바르면 다음과 같은 메시지를 출력한다.\n",
    "      - Hello [name]!\n",
    "      - 위 [name]에는 access.txt에 기록되어 있는 name 정보를 출력한다.\n",
    "  - 4) 3을 선택하면 프로그램이 끝난다.\n",
    "  - [참고] sha 모듈 활용 예"
   ]
  },
  {
   "cell_type": "code",
   "execution_count": null,
   "metadata": {
    "scrolled": false
   },
   "outputs": [
    {
     "name": "stdout",
     "output_type": "stream",
     "text": [
      "Welcome to Our Service\n",
      "\tA. Sign Up\n",
      "\tB. Sign In\n",
      "\tC. Quit\n",
      "1\n",
      "hello world name string\n",
      "Sorry, the entered ID is already used.\n",
      "----------------------\n",
      "Welcome to Our Service\n",
      "\tA. Sign Up\n",
      "\tB. Sign In\n",
      "\tC. Quit\n"
     ]
    }
   ],
   "source": [
    "import hashlib\n",
    "import os.path\n",
    "\n",
    "filename = \"access.txt\"\n",
    "userinfo_db = dict()\n",
    "\n",
    "def readDB():\n",
    "    userinfo_db.clear()\n",
    "    \n",
    "    if(not os.path.isfile(filename)):\n",
    "        with open(filename,\"w\"):\n",
    "            pass\n",
    "    \n",
    "    with open(filename, \"r\") as f:\n",
    "        while True:\n",
    "            line = f.readline()\n",
    "            if not line: break\n",
    "            id = line.split(':')[0]\n",
    "            line = line.split(':')[1]\n",
    "            pw, name, school = line.split(',')\n",
    "            userinfo_db[id] = [pw, name, school]\n",
    "        \n",
    "def displayMenu():\n",
    "    print(\"Welcome to Our Service\")\n",
    "    print(\"\\tA. Sign Up\")\n",
    "    print(\"\\tB. Sign In\")\n",
    "    print(\"\\tC. Quit\")\n",
    "    ret = input()\n",
    "    return ret\n",
    "\n",
    "def signUp(id, pw, name, school):\n",
    "    if not id in userinfo_db:\n",
    "        with open(filename,\"a\") as f:\n",
    "            f.write(id + \":\" + makeHash(pw) + \",\" + name + \",\" + school + \"\\n\")\n",
    "    else:\n",
    "        print(\"Sorry, the entered ID is already used.\")\n",
    "        \n",
    "    \n",
    "\n",
    "def signIn(id, pw):\n",
    "    if id in userinfo_db:\n",
    "        if makeHash(pw) == userinfo_db[id][0]:\n",
    "            print(\"Hello\", userinfo_db[id][1])\n",
    "        else:\n",
    "            print(\"Sorry, the entered password is not correct.\")\n",
    "    else:\n",
    "        print(\"Sorry, you are not a registered member.\")\n",
    "        \n",
    "def makeHash(s):\n",
    "    hash_object = hashlib.sha256(s.encode())\n",
    "    hex_dig = hash_object.hexdigest()\n",
    "    return hex_dig\n",
    "\n",
    "menu = -1\n",
    "\n",
    "readDB()\n",
    "\n",
    "while True:\n",
    "    menu = displayMenu()\n",
    "    if menu == \"1\":\n",
    "        tmp = input().split()\n",
    "        if(len(tmp)==4):\n",
    "            signUp(tmp[0], tmp[1], tmp[2], tmp[3])\n",
    "        else: prijt(\"wrong input\")\n",
    "    elif menu == \"2\":\n",
    "        tmp = input().split()\n",
    "        if(len(tmp)==2):\n",
    "            signIn(tmp[0],tmp[1])\n",
    "        else: prijt(\"wrong input\")\n",
    "    elif menu == \"3\":\n",
    "        break;\n",
    "    else:\n",
    "        print(\"wrong Input\")\n",
    "    readDB()\n",
    "    print(\"----------------------\")"
   ]
  },
  {
   "cell_type": "code",
   "execution_count": 327,
   "metadata": {
    "id": "hCUrMFabUdku",
    "outputId": "7338cb4a-4039-4355-eb02-2ff32e4948c5"
   },
   "outputs": [],
   "source": [
    "# import hashlib\n",
    "# hasher = hashlib.sha1()\n",
    "# password_plain = 'ripemd160'\n",
    "# password_encrypted = hashlib.new(password_plain)\n",
    "# password_encrypted.hexdigest()\n",
    "# print(password_encrypted)"
   ]
  },
  {
   "cell_type": "markdown",
   "metadata": {},
   "source": [
    "설명\n",
    "- readDB는 파일에 있는 데이터를 읽어주었다. 파일이 없으면 만들어주고 아무거도 읽지 않게 하였다.\n",
    "- displayMenu는 매뉴를 출력하고 입력을 받아주었다.\n",
    "- signUp에서는 id, pw, name, school를 포멧에 맞는지 확인 후 DB에 저장하였다.\n",
    "- signIn에서는 id, pw를 받고 id가 존재하는지 pw가 일치하는지 확인 후 그에 따른 결과를 출력하였다.\n",
    "- makeHash는 string를 연산하여 hash로 만들어 주었다.\n",
    "- while에서는 매뉴 입력이 맞는지 확인하고 매뉴 입력에 따른 함수를 불러주고 signup으로 값이 바뀔 수 있어 다시 readDB를 해주었다."
   ]
  },
  {
   "cell_type": "markdown",
   "metadata": {},
   "source": [
    "## Problem 3"
   ]
  },
  {
   "cell_type": "markdown",
   "metadata": {
    "id": "KhoFC3_aUdkw"
   },
   "source": [
    "3. range() 함수와 유사한 frange() 함수를 다음 조건을 참고하여 만드시오.\n",
    "\n",
    "  - 1) frange()의 인자 구성은 다음과 같이 range와 동일하지만 각 인수들은 음수를 받지 않는다고 가정한다.\n",
    "  > range(stop)<br/>\n",
    "  > range(start, stop[, step])<br/>\n",
    "  - 2) frange() 함수의 인자에 대한 기본 시작(start) 값은 0.0이고, 기본 단계(step) 값은 0.1이다. \n",
    "  - 3) frange 사용 예\n",
    "    - 3-1) frange(0.5)\n",
    "      - [0.0, 0.1, 0.2, 0.3, 0.4]\n",
    "    - 3-2) frange(1.0, 2.0)\n",
    "      - [1.0, 1.1, 1.2, 1.3, 1.4, 1.5, 1.6, 1.7, 1.8, 1.9]\n",
    "    - 3-3) frange(2.2, 4.0, 0.5)\n",
    "      - [2.2, 2.7, 3.2, 3.7]"
   ]
  },
  {
   "cell_type": "code",
   "execution_count": 325,
   "metadata": {},
   "outputs": [
    {
     "name": "stdout",
     "output_type": "stream",
     "text": [
      "[0.0, 0.1, 0.2, 0.3, 0.4]\n",
      "[1.0, 1.1, 1.2, 1.3, 1.4, 1.5, 1.6, 1.7, 1.8, 1.9, 2.0]\n",
      "[2.2, 2.7, 3.2, 3.7]\n",
      "[]\n"
     ]
    }
   ],
   "source": [
    "def frange(*args):\n",
    "    if len(args) == 1:\n",
    "        end = args[0]\n",
    "        start = 0.0\n",
    "        step = 0.1\n",
    "    elif len(args) == 2:\n",
    "        start = args[0]\n",
    "        end = args[1]\n",
    "        step = 0.1\n",
    "    elif len(args)==3:\n",
    "        start = args[0]\n",
    "        end = args[1]\n",
    "        step = args[2]\n",
    "    else:\n",
    "        return []\n",
    "    return [f / 10 for f in range(int(start * 10), int(end * 10), int(step * 10))]\n",
    "\n",
    "print(frange(0.5))\n",
    "print(frange(1.0, 2.15))\n",
    "print(frange(2.2, 4.0, 0.5))\n",
    "print(frange())"
   ]
  },
  {
   "cell_type": "markdown",
   "metadata": {},
   "source": [
    "설명\n",
    "- args를 통하여 입력을 받았고 그 값을 크기에 따라 변수에 넣어 사용하였다.\n",
    "- size가 0인 경우는 아무것도 빈 리스트를 반환하였다.\n",
    "- 로직은 range를 만들때 10을 곱하여 만든 후 10으로 나누어주었다."
   ]
  },
  {
   "cell_type": "markdown",
   "metadata": {},
   "source": [
    "## Problem 4"
   ]
  },
  {
   "cell_type": "markdown",
   "metadata": {
    "id": "Atn_frLcUdkw"
   },
   "source": [
    "4. 가변인수를 받는 함수 sum()을 다음과 같은 조건을 참고하여 구현하시오\n",
    "\n",
    "  - sum() 사용 예"
   ]
  },
  {
   "cell_type": "markdown",
   "metadata": {
    "id": "XemcRSvqUdkx"
   },
   "source": [
    "> sum()<br/>\n",
    ">   0\n",
    "\n",
    "> sum(1, 2)<br/>\n",
    ">   3\n",
    "\n",
    "> sum(1, 2, 3, 4, 5)<br/>\n",
    ">   15\n",
    "\n",
    "> sum(1, 5, 7, 2, -10)<br/>\n",
    ">   5"
   ]
  },
  {
   "cell_type": "code",
   "execution_count": 363,
   "metadata": {},
   "outputs": [
    {
     "name": "stdout",
     "output_type": "stream",
     "text": [
      "0\n",
      "3\n",
      "15\n",
      "5\n"
     ]
    }
   ],
   "source": [
    "import functools\n",
    "\n",
    "def sum(*args):\n",
    "    if len(args) == 0: return 0\n",
    "    else: return functools.reduce(lambda x,y: x+y, args)\n",
    "\n",
    "print(sum())\n",
    "print(sum(1,2))\n",
    "print(sum(1,2,3,4,5))\n",
    "print(sum(1, 5, 7, 2, -10))"
   ]
  },
  {
   "cell_type": "markdown",
   "metadata": {},
   "source": [
    "설명\n",
    "- size가 0인 경우는 0을 반환하였다.\n",
    "- 아닌경우는 reduce를 통하여 모든 수를 더해주었다.\n",
    "- 신기하게도 c++과 다르게 하나만 들어오 경우에 예외처리해주지 않아도 잘 작동하였다."
   ]
  },
  {
   "cell_type": "markdown",
   "metadata": {},
   "source": [
    "## Problem 5"
   ]
  },
  {
   "cell_type": "markdown",
   "metadata": {
    "id": "DHwodqEhUdkx"
   },
   "source": [
    "5. 여러 단어로 이루어진 문자열을 입력받아 각 단어의 첫글자로 이루어진 단어를 대문자로 출력하는 myinitial() 함수를 다음 조건을 참고하여 작성하시오.\n",
    "\n",
    "  - 1) 다음에 제시되는 함수들을 모두 이용해야 한다. \n",
    "    - split\n",
    "    - map\n",
    "    - join\n",
    "    \n",
    "  - 2) myinitial() 함수 사용 예\n",
    "    - myinitial(\"as soon as possible\")\n",
    "      - ASAP"
   ]
  },
  {
   "cell_type": "code",
   "execution_count": 321,
   "metadata": {},
   "outputs": [
    {
     "name": "stdout",
     "output_type": "stream",
     "text": [
      "ASAP\n"
     ]
    }
   ],
   "source": [
    "def myinitial(s):\n",
    "    return ''.join(map(lambda x: x[0].upper(), s.split()))\n",
    "\n",
    "print(myinitial(\"as soon as possible\"))"
   ]
  },
  {
   "cell_type": "markdown",
   "metadata": {},
   "source": [
    "설명\n",
    "- 문자열을 split한 뒤 첫단어를 upper를 통하여 join해 주었다."
   ]
  },
  {
   "cell_type": "markdown",
   "metadata": {},
   "source": [
    "## Problem 6"
   ]
  },
  {
   "cell_type": "markdown",
   "metadata": {
    "id": "KlYOE6MMUdky"
   },
   "source": [
    "6. 음이 아닌 정수 n를 입력받으면 n! (factorial)을 계산하는 myfact() 함수를 재귀적 함수로 구현하시오.\n",
    "  - [옵션] 참을 수 있는 정도 만큼의 수행시간을 직접 기다려보면서 n을 늘려보도록 합시다. "
   ]
  },
  {
   "cell_type": "code",
   "execution_count": 319,
   "metadata": {},
   "outputs": [
    {
     "data": {
      "text/plain": [
       "505952377564956574235399487483041822888119906495646428420108128343971780124357271627183187181901985489257810723352466337235751018907859251483748076712221335242456072511956620861657068464658696977275319548308128323491783917474904823913336186702557231203052281424187828395416859857650094981705373496768015046695461677805249020166776518284295970082765903694461122649954549098532765643831376261157499518461143563135097922059297592457480472528808956521277781996009697748813767752317901993583593064711390389256539592213382336750436174727185984611760421291141324911097267225552199730476774453050697842602214070935344031411264401893900574346899099074352438646458875367356096148179163702062404569627599604398082394992936879385517649368601293248572380303208752748532898279993016519568119152122997226350756743992971418437596814731963479245017081663815882070810350128181274021195041969125382972166350502231430456320751213523019414063808516433867248249458204960649567320833484525228075044368117053546317603246367348305223651166741619208572954894754963564906549900945718620560144664619176792361928902055495486766678111048939613458737412922392294514406609754352193128612689646312984389391384542004936977915717862835284618842815353884331578173485518049245163406721754394757532153630949794490352956706658643356384827761671051127033493861835851858266803047303528721645085359830071308178059987895159485448770011421607061291723072538712061663843713634472913489277136293532711346437784150028750732691015545860917019871467854175069186555128848527975507743980014621065347175998899503889555524246048425283036762865132185738163019720604486888790649229080920897997356932714808171903128984446953736128013641915138607295668586443278128585861795381105865300374543687713038363463734625326242378569900174429119032387561641410316557859320181006422069507062358883630822542555165462364329302020473271497387715792071820765665790638352153555764538517631260623412723313093124092432789491632554073948827390735545716441923238289865340885387413615546454862536340143133279001626002846851251985749608403099376032761637880189487407395316371555518384151347805569454991207771447814049085283309396973938146616587548492080685353361421300685402925961961594457843812808323627052444494531230842541527876374091449199498505040454348872835833672606472991662324687936591415102700920099451882798533790160819905229463966579386064091196159794033606595148486318974279886252625281882417946278062935437494064201030712069959884123056091383908894582389150116181563280017248260639726389219082618229436407923655677520787696484231955335749934869835829529232873565123341894383043689415677290245298872397296236062684486528804501714047715809281111825145284594085527682612469161079097724306324717717370616852498132614961555068777564065642212901785044040759229586430531033571738833642484102909150553156027449172810226051647526127119143506842908589132811939877335365609394825488767298324967689803294237085972150685775692210531284369176050389712589027201065029068982183877762434780175410176411293776022903071007023268833118929966361919876102344186026867789948320263121167877330315760562199392980017581153413893390806854924128901636586801254240778519544856193062608281831069246248690202744846293153414312300720120488144461290066803974638049281133970882034227745035365268761916176529984894968882158839745651008741895339444483102420184236636656503952076535669164343850080510907764043670290796001080548105515761735330566670042746571098546589282620109426209884181482355186402707898206641430425001620671967112727455983421839234154954288153498865505042532193748772902749650088676740366711134605696859906919405304391865790833479216987711960824939008151644804857062230211669069733854091647246315171830638665160173141295848165892546880585459436607927176474071620899667956618334059746950873938562409188599241938567067170692849335683578966128411131236518266361726453493044283429562907397961739920262899101091557097458225429801892281994203718754852487125577824395869704288849547013579105355501910384793072992984186683937908935816601954766367685950245149761678601855600240560451474616640462771914114328102885542174972636486024811157948367110693824340795404853680662792040710852726375081527919472495980882595698444686925765216736741417065761432093611761958622217033877441500445781888826033981568474678352598856427653847134498181718363645160970117611198237806641968770399090817865908899097634156897883286063770636278923699777992330368066454906593057270525484589748275601744312937497807614063496206864488956347571208678713857351251986907901301155119653872991190512442242526972487566285913946822301636688681655324235085482760023655672140754322321687858963519125110309264260832864639362761076410076399273686859052245563539008740456478742972074915912598042429112715276797080483484822698765501490430410978494396869083392852410845191024762745118937835484291069818760572045299004832186854889093147675598707363973119450033863038330685809160394058978787332058962616408131153575731817837715853975139168133864169744811491217996493870236325772162182489527457900879728203741482655364355939821462687169262142215976857618362012820567379046490311453885812795002452094207230799870176163322437919683639287666135370401815833833114157811898800783684850036382330136730920295573939818328117306643485779261792831821615739553610107679284541695364939657683746178542760118788613838308936469819427291942011685629577480903614801233083214880029478804996040922186274075836756880804024306078751473402908273251646747992644309725929690164954923031579740513944424076760724123662993821684545937599720064648741572624012685336283652494850265165491710714116374718489034729818280389918959040385125552773949761595076511255097735742149514700239890510147693892465104050405925290340225256290247354872111938446371065651977972020396615781202590783439160203919245603491084569341628299982296116764683113780777390921400474959343950454243439772316470197613709313374203286255015141696789916941932106840344433822594804423071598055281167282171780011466022383650523904986419378845041609455851735293524289387419978210692206302846111773391488175884121102570766897002872703145900033371681393798014544425397255200765468172768570535980920261758464497062501938150472688373769489767558588943257503967378934038491593905386896680129514085292610357934575551496717705414023438716150545440995752904251918923448418223156270058694405255050170867464300372799423619454006883636624680995003769658469030613696236936432069590913382591773157686138328499407784406427308805760759216414925733287713963049493696399382385752236778315567618527900838466462251053761666931318703304661654026328368628876754259925621774699287851246861910845584625608916871935351626827663388730660445798602673640720613960683859065468530587682219591775317089012936269062742766542323135936800322925330833758684418563126325826007396617007834217576725275993610108562544798619626536400277088314201459204383823376559943634430809754806647054466439571225841739621532058941853482752809345093162308901404855233474085243121022418317848999217370129424792306080763705958365013033311530366136930553424436332618971344403186596683093976160965358502597713321038168748925230956815570105995634684054037999913797591638272704582788809169713089976586905012505250924187891686723238511522302073579758158912744029159463165911781806567781258042549923403774721567302720941897494341666584621373121753575105984289757730937867014241826012173778451101146637465044455471909853246060847358204554009205055968763184964159539920129319487624308928830155282689112619749820454152892727555967564143362354220295682215993530992721667609801435444589589598847755289197930460551226323858814103011419655108254159920621031411833690169900373926961071064012696440626630653113890239678769466209364900318934579927782472728196734195503919675356415269316704586534036749990612630025583699768295835742208376937327058309669264558472243712025144898820706116786736088328767049707940907607077728112791287799898737446268042773013232285623381907584849757921426968276132505010829220774454431445160714392448234608332463967141786186867411318473367495692266264774383213263461870491802448140275996364999495942699301677345564954135247466914996254290661281441421798303037648923046578424982193421649853808640000000000000000000000000000000000000000000000000000000000000000000000000000000000000000000000000000000000000000000000000000000000000000000000000000000000000000000000000000000000000000000000000000000000000000000000000000000000000000000000000000000000000000000000000000000000000000000000000000000000000000000000000000000000000000000000000000000000000000000000000000000000000000000000000000000000000000000000000000000000000000000000000000000000000000000000000000000000000000000000000000000000000000000000000000000000000000000000000000000000000000000000000000000000000000000000000000000000000000000000000000000000000000000000000000000000000000000000000000000000000000000000000000000000000000000000000000000000000000000000000000000000000000"
      ]
     },
     "execution_count": 319,
     "metadata": {},
     "output_type": "execute_result"
    }
   ],
   "source": [
    "def myfact(n):\n",
    "    return 1 if n == 1 else n * myfact(n-1)\n",
    "\n",
    "myfact(2958) # 2959 RecursionError\n",
    "\n",
    "#for i in range(2900,2959,1):\n",
    "#    try:\n",
    "#        myfact(i)\n",
    "#    except:\n",
    "#        print(i)"
   ]
  },
  {
   "cell_type": "markdown",
   "metadata": {},
   "source": [
    "설명\n",
    "- 특히하게도 다른 언어처럼 stack overflow를 반환하는 것이 아닌 RecursionError 오류를 반산하는 것을 확인할 수 있었다. 이말은 파이썬 인터프린터가 얼마나 함수를 부르는지 아는것 처럼 보였다."
   ]
  },
  {
   "cell_type": "markdown",
   "metadata": {},
   "source": [
    "## Problem 7"
   ]
  },
  {
   "cell_type": "markdown",
   "metadata": {
    "id": "JehH8wjoUdky"
   },
   "source": [
    "7. (서술형) import string 과 from string import * 의 차이점을 설명하시오."
   ]
  },
  {
   "cell_type": "code",
   "execution_count": 79,
   "metadata": {},
   "outputs": [
    {
     "data": {
      "text/plain": [
       "'0123456789'"
      ]
     },
     "execution_count": 79,
     "metadata": {},
     "output_type": "execute_result"
    }
   ],
   "source": [
    "import string\n",
    "string.digits"
   ]
  },
  {
   "cell_type": "code",
   "execution_count": 83,
   "metadata": {},
   "outputs": [
    {
     "data": {
      "text/plain": [
       "'0123456789'"
      ]
     },
     "execution_count": 83,
     "metadata": {},
     "output_type": "execute_result"
    }
   ],
   "source": [
    "from string import *\n",
    "digits"
   ]
  },
  {
   "cell_type": "markdown",
   "metadata": {},
   "source": [
    "설명\n",
    "- import string의 경우 string이라는 모듈자체를 가져와 사용한다. (ex. string.digits) \n",
    "- from string import * 의 경우 패키지 내부에 있는 모든 매소드와 객체, 클래스를 가져와 사용하기 때문에 페키지를 부르지 않고 바로 매소드와 변수의 사용이 가능하다. (ex. digits)"
   ]
  },
  {
   "cell_type": "markdown",
   "metadata": {
    "id": "p6xT_mdzUdky"
   },
   "source": [
    "### [Incremental Project 문제] "
   ]
  },
  {
   "cell_type": "markdown",
   "metadata": {
    "id": "Xp6HInRQUdkz"
   },
   "source": [
    "#### 이전 Assignment 3의 마지막 문제는 웹 URL로 지정된 웹페이지를 문자열로 가져와 모든 HTML 태그 및 CSS와 Javascript를 제외한 순수 텍스트를 얻어내고 그 안에 존재하는 단어를 추출하여 각 단어들에 대해 출현빈도를 사전형태({'world': 2, 'hello': 1, 'python': 1})로 저장하여 출력하는 것이었다. 이번에는 Assignment 3를 확장하여 다음과 같은 조건을 만족하도록 구현하시오.\n",
    "\n",
    "  - 1) 다음 사이트에서 제시되는 불용어 (Stop words)를 참고하여 이전 숙제에서 구성했던 단어 사전에서 불용어들을 모두 제거하는 코드를 추가하시오.\n",
    "    - 영어 불용어: http://www.lextek.com/manuals/onix/stopwords1.html\n",
    "    - 한글 불용어: https://raw.githubusercontent.com/stopwords-iso/stopwords-ko/master/stopwords-ko.txt\n",
    "  - 2) 각 URL로 지정된 웹페이지의 HTML 소스를 파일로 저장하시오. \n",
    "    - URL이 http://URL 이라면 파일명은 URL.html 이다. \n",
    "      - 예: URL이 http://www.cnn.com 이라면 파일명은 www.cnn.com.html 이다. \n",
    "  - 3) 단어의 출현빈도가 담긴 사전 객체를 위 HTML 소스 파일과 동일한 폴더에 파일로 저장하시오.\n",
    "    - 파일입출력 (E-learning 13주차) 마지막에 학습한 pickle 모듈을 활용하시오. \n",
    "    - URL이 http://URL 이라면 사전 객체를 담고 있는 파일명은 URL.words_frequency.pickle 이다.\n",
    "      - 예: URL이 http://www.cnn.com 이라면 파일명은 www.cnn.com.words_frequency.pickle 이다.\n",
    "  - 4) 최소 5개 이상의 웹 사이트 각각에 대한 HTML 소스 파일과 단어 출현빈도 파일을 저장하시오. \n",
    "    - 즉, 5개의 웹 사이트에 대해 총 10개의 파일을 동일한 폴더에 생성하시오.\n",
    "    - [주의] 가능하면 웹사이트에 단어들이 많고 다루는 주제가 서로 다른 웹 사이트들로 선정하는 것 추천\n",
    "  - 5) 위 문제에서 저장한 모든 pickle 파일들을 객체로 다시 로드하여 본인이 저장하여 분석한 사이트들 각각에 대해서 가장 많이 출현한 단어 3개씩를 뽑아 제시하시오. \n",
    "    - 반드시 pickle 모듈로 저장한 5개 이상의 pickle 파일들을 다시 5개 이상의 사전 객체로 로드 하는 코드가 추가되어야 함\n",
    "  - 6) 간단한 검색엔진 코딩 (Like Google!!!)\n",
    "    - 사용자에게 임의의 검색어 (하나 또는 여러 단어로 구성) 를 입력받으시오.\n",
    "      - 예: \n",
    "        - 대한민국\n",
    "        - 컴퓨터 공학\n",
    "        - 맛있는 음식\n",
    "        - 파이썬\n",
    "        - 한기대 장점\n",
    "    - 입력받은 검색어들에 대해서도 1)에서 제시하는 방법처럼 불용어 처리를 하여 정리\n",
    "    - 입력 받은 검색어와 유사도(Similarity)가 높은 웹 사이트 기준으로 위 4)에서 미리 지정해 놓은 5개 이상의 웹 사이트 URL들을 일렬로 나열하여 출력하시오.\n",
    "      - 검색어와 웹 사이트 간의 유사도는 본인이 스스로 정하시오.\n",
    "      - 유사도를 정하는 최소한의 기준은 단어 출현 빈도를 기반으로 해야 하며, 이외의 본인이 생각하는 방안이 있으면 함께 사용해도 됨.\n",
    "      - 유사도가 높은 웹 사이트가 상위에 출력되어야 함 (즉, 유사도 기준 내림 차순)\n",
    "      - 유사도가 동일한 웹 사이트들에 대해서는 임의 배치함.\n",
    "  - 7) [주의] 필수사항\n",
    "    - 위에서 만든 검색엔진 코딩은 매우 간단한 것이라 부족한 점이 많이 존재한다.\n",
    "    - 본인이 생각하기에 상업적인 완성도 높은 검색 로봇/엔진이 되려면 어떤 기능들이 추가적으로 구현되어야 할지 최소 1가지 이상 제시하시오. "
   ]
  },
  {
   "cell_type": "code",
   "execution_count": 2,
   "metadata": {
    "id": "TgcRm6IEUkYD"
   },
   "outputs": [],
   "source": [
    "import requests\n",
    "\n",
    "def sub(s, l, r):\n",
    "    origin_l, tmp1 = s.split(l,1)\n",
    "    tmp2, origin_r = tmp1.split(r,1)\n",
    "    return origin_l + \" \" + origin_r\n",
    "    \n",
    "\n",
    "def removeHtmlTag(source):\n",
    "    \n",
    "    # 주석 삭제\n",
    "    while source.find(\"//<\") != -1:\n",
    "        source = sub(source, \"//<\", \">\")\n",
    "\n",
    "    # 요소내부에서 앵커요소 나오는 경우가 있는데 어떻게 처리해야할지 모르겠습니다.\n",
    "    # 예시. <a href=\\\" < url > https://gallery.v.daum.net/p/premium/excavation/cSCjAyizEy</url>\\\" class=\\\"link_thumb photo_pic1\\\" data-tiara-action-name=\\\"오늘의 포토_데이터 운영_하단 썸네일\\\" data-tiara-layer=\\\"thumbnail\\\">\n",
    "    while source.find(\"<url>\") != -1:\n",
    "        source = sub(source, \"<url>\",\"</url>\")\n",
    "        \n",
    "    while source.find(\"<text>\") != -1:\n",
    "        source = sub(source, \"<text>\",\"</text>\")\n",
    "        \n",
    "    # <script> 삭제\n",
    "    while source.find(\"<script\") != -1:\n",
    "        source = sub(source, \"<script\", \"</script>\")\n",
    "    \n",
    "    # <style> 삭제\n",
    "    while source.find(\"<style\") != -1:\n",
    "        source = sub(source, \"<style\", \"</style>\")\n",
    "\n",
    "    cursor = source\n",
    "\n",
    "    while cursor.find(\"<\") != -1:\n",
    "        cursor = sub(cursor,\"<\",\">\")\n",
    "    \n",
    "    cursor = cursor.replace(\"\\t\",\"\")\n",
    "    cursor = cursor.replace(\"\\n\",\"\")\n",
    "    cursor = cursor.replace(\"\\r\",\"\")\n",
    "    result = cursor.split(' ')\n",
    "    \n",
    "    for _ in range(result.count('')):\n",
    "        result.remove('')\n",
    "    \n",
    "    return result;"
   ]
  },
  {
   "cell_type": "code",
   "execution_count": 3,
   "metadata": {
    "id": "LA71IpQoUsFD"
   },
   "outputs": [],
   "source": [
    "import requests\n",
    "import string\n",
    "\n",
    "def removePunctuationInString(s):\n",
    "    for token in string.punctuation:\n",
    "        s = s.replace(token,\"\");\n",
    "    return s\n",
    "\n",
    "def removePunctuation(s):\n",
    "    result = list(map(removePunctuationInString, s))     \n",
    "    \n",
    "    for _ in range(result.count('')):\n",
    "        result.remove('')\n",
    "    \n",
    "    return result\n",
    "\n",
    "\n",
    "def lower_all(s):\n",
    "    return ''.join(map(lambda x: x.lower() if x.isalpha() else x, [c for c in s]))\n",
    "\n",
    "def removeStopwordKorean(l):\n",
    "    sw = requests.get(\"https://raw.githubusercontent.com/stopwords-iso/stopwords-ko/master/stopwords-ko.txt\").text.split()\n",
    "    return list(filter(lambda s: not s in sw, l))\n",
    "\n",
    "def removeStopwordEnglish(l):\n",
    "    sw = requests.get(\"https://raw.githubusercontent.com/JangHyunsoo/Script-Programming/master/stopword.txt\").text.split()\n",
    "    return list(filter(lambda s: not lower_all(s) in sw, l))\n",
    "\n",
    "def removeStopword(l):\n",
    "    l = removeStopwordKorean(l)\n",
    "    l = removeStopwordEnglish(l)\n",
    "    return l\n",
    "\n",
    "def getFrequency(l):\n",
    "    d_result = {item : 0 for item in l}\n",
    "    for item in l:\n",
    "        d_result[item] += 1\n",
    "\n",
    "    d_result = {k:v for k,v in sorted(list(d_result.items()), key=lambda x: x[1], reverse=True)}\n",
    "  \n",
    "    return d_result\n",
    "\n",
    "# 한 번에 실행\n",
    "def makeData(s):\n",
    "    return getFrequency(removePunctuation(getWord(requests.get(s).text)))"
   ]
  },
  {
   "cell_type": "code",
   "execution_count": 4,
   "metadata": {},
   "outputs": [],
   "source": [
    "import requests\n",
    "\n",
    "def makeHTMLFile(url):\n",
    "    file_name = url.split('//')[1].rstrip('/') + \".html\"\n",
    "    content = requests.get(url).text\n",
    "    with open(file_name, 'w', -1, \"utf-8\") as f:\n",
    "        f.write(content)\n",
    "    return content"
   ]
  },
  {
   "cell_type": "code",
   "execution_count": 5,
   "metadata": {},
   "outputs": [],
   "source": [
    "import pickle\n",
    "\n",
    "def makeFrequencyFile(url, d):\n",
    "    file_name = url.split('//')[1].rstrip('/') + \".words_frequncy.pickle\"\n",
    "    with open(file_name, 'wb') as f:\n",
    "        pickle.dump(d, f)\n",
    "        \n",
    "def loadFrequencyFile(url):\n",
    "    file_name = url.split('//')[1].rstrip('/') + \".words_frequncy.pickle\"\n",
    "    with open(file_name, 'rb') as f:\n",
    "        ret = pickle.load(f)\n",
    "    return ret"
   ]
  },
  {
   "cell_type": "code",
   "execution_count": 6,
   "metadata": {},
   "outputs": [],
   "source": [
    "import functools\n",
    "\n",
    "# 가중치 생성\n",
    "def makeDistWithString(key_origin, s):\n",
    "    dict_ilst = [1 / float(2 ** (i + 1)) for i in range(len(key_origin))]\n",
    "    max_dict = 0\n",
    "    lower_s = lower_all(s)\n",
    "    \n",
    "    for i in range(len(key_origin)):\n",
    "        key = key_origin[i:]\n",
    "        now_dict = functools.reduce(lambda x,y: x+y,dict_ilst[i:])\n",
    "        idx = lower_s.find(lower_all(key))\n",
    "        cal_len = float(len(key)) / len(s)\n",
    "        cal_idx = 1 / (1 + idx)  if idx != -1 else 0\n",
    "        cal_result = float(cal_idx) * float(cal_len) * float(now_dict)\n",
    "        max_dict = max_dict if max_dict > cal_result else cal_result\n",
    "    \n",
    "    for i in range(1, len(key_origin)):\n",
    "        key = key_origin[:i]\n",
    "        now_dict = functools.reduce(lambda x,y: x+y,dict_ilst[i:])\n",
    "        idx = lower_s.find(lower_all(key))\n",
    "        cal_len = float(len(key)) / len(s)\n",
    "        cal_idx = 1 / (1 + idx)  if idx != -1 else 0 \n",
    "        cal_result = float(cal_idx) * float(cal_len) * float(now_dict)\n",
    "        max_dict = max_dict if max_dict > cal_result else cal_result\n",
    "    \n",
    "    return (s, max_dict)\n",
    "    \n",
    "\n",
    "def makeDist(key_origin, d):\n",
    "    l = [k for k in d.keys()]\n",
    "    max_dict = -1\n",
    "    max_word = \" \"\n",
    "\n",
    "    for s in l:\n",
    "        now_word, now_dict = makeDistWithString(key_origin, s)\n",
    "        if max_dict < now_dict:\n",
    "            max_dict = now_dict\n",
    "            max_word = now_word \n",
    "        \n",
    "    return (max_dict, d[max_word], max_word)"
   ]
  },
  {
   "cell_type": "code",
   "execution_count": 11,
   "metadata": {},
   "outputs": [],
   "source": [
    "import googletrans\n",
    "import functools\n",
    "\n",
    "def translateList(key_list):\n",
    "    translator = googletrans.Translator()\n",
    "    ret = [text for key in key_list for text in list(translator.translate(key, dest='en').text.split())]\n",
    "    return ret\n",
    "\n",
    "def makeKeyList(key_list):\n",
    "    ret_list = key_list[:]\n",
    "    ret_list += translateList(key_list)\n",
    "    ret_list = removeStopword(ret_list)\n",
    "    return ret_list"
   ]
  },
  {
   "cell_type": "code",
   "execution_count": 8,
   "metadata": {},
   "outputs": [],
   "source": [
    "html_url = [\"https://animal-crossing.com/\", \"https://www.python.org/\", \"https://www.notion.so/\", \"https://aws.amazon.com/\", \"https://www.billboard.com/\"]\n",
    "\n",
    "source_html = {text:makeHTMLFile(text) for text in html_url}"
   ]
  },
  {
   "cell_type": "code",
   "execution_count": 14,
   "metadata": {
    "id": "K1kO5TUYUthy"
   },
   "outputs": [],
   "source": [
    "source_removeTag = {url:removeHtmlTag(source) for url, source in source_html.items()}\n",
    "source_removePunctuation = {url:removePunctuation(source) for url, source in source_removeTag.items()}\n",
    "source_removeStopword = {url:removeStopword(source) for url, source in source_removePunctuation.items()}\n",
    "results = {url:getFrequency(source) for url, source in source_removeStopword.items()}\n",
    "\n",
    "for url,source in results.items():\n",
    "    makeFrequencyFile(url, source)"
   ]
  },
  {
   "cell_type": "code",
   "execution_count": 17,
   "metadata": {},
   "outputs": [
    {
     "name": "stdout",
     "output_type": "stream",
     "text": [
      "['Nintendo', 'Animal', 'Crossing']\n",
      "['Python', '2021', 'News']\n",
      "['Notion', 'amp', 'team']\n",
      "['AWS', 'Amazon', 'Free']\n",
      "['ago', 'Billboard', '2021']\n"
     ]
    }
   ],
   "source": [
    "# 가장 많은 단어 3개 출력\n",
    "for url, result in results.items():\n",
    "    print(list(result)[:3])"
   ]
  },
  {
   "cell_type": "code",
   "execution_count": 13,
   "metadata": {},
   "outputs": [
    {
     "name": "stdout",
     "output_type": "stream",
     "text": [
      "검색어을 입력해주세요: 파이썬은 어렵습니다\n",
      "['파이썬은', '어렵습니다', 'Python', 'difficult']\n",
      "https://www.python.org/: (0.984375, 49, 'Python')\n",
      "https://aws.amazon.com/: (0.984375, 1, 'Python')\n",
      "https://www.billboard.com/: (0.2421875, 11, 'pm')\n",
      "https://www.notion.so/: (0.166015625, 2, 'doc')\n",
      "https://animal-crossing.com/: (0.12451171875, 2, 'days')\n"
     ]
    }
   ],
   "source": [
    "search_key = input(\"검색어을 입력해주세요: \")\n",
    "\n",
    "search_key = makeKeyList(list(search_key.split()))\n",
    "\n",
    "print(search_key)\n",
    "\n",
    "dict_list = {url:(0,0,0) for url in results.keys()}\n",
    "\n",
    "for key in search_key:\n",
    "    for url, result in results.items():\n",
    "        now_dict = makeDist(key, result)\n",
    "        dict_list[url] = now_dict if dict_list[url][0] <= now_dict[0] else dict_list[url]\n",
    "\n",
    "dict_list = { k:v for k, v in sorted(dict_list.items(),key=lambda item: item[1], reverse=True)}\n",
    "\n",
    "for url, url_dict in dict_list.items():\n",
    "    print(url,url_dict,sep=\": \")"
   ]
  },
  {
   "cell_type": "markdown",
   "metadata": {},
   "source": [
    "설명\n",
    "- removeStopword를 사용하기 위하여 text문서를 깃에 올려 사용하였다. 사용할때에는 korean과 english를 나누었고 대소문자 구별을 없게 하기 위하여 원래 있는 lower는 특수문자가 들어있으면 지우지 못하기 때문에 lower_all를 따로 만들어 사용하였다.\n",
    "- makeHTMLFile은 txt파일을 만들고 만들어진 텍스트를 출력해주었다.\n",
    "- makeFrequencyFile은 pickle파일을 만들어주는 함수이다.\n",
    "- makeKeyList에서는 검색한 키를 번역하고 번역한 키엗도 stopword를 적요하여 제거해주었다.\n",
    "- 위의 키를 이용하여 검색을 하기 위하여 makeDist를 만들어주었다.\n",
    "- makeDist 즉 유사도 로직은 hello가 있다면 h, he, hel, hell, hello과 ello, llo, lo, o를 검색하여 이를 연산 함숭에 넣어 계산만 해주었다. 계산 로직은 각 인텍스에 가중치를 넣주었는데 1: 0.5, 2: 0.25, 3: 0.125...으로 넣도 예를 들어 he는 0.5 + 0.25 = 0.75이다. 또 검색자리에 따라 가중치를 주었는데 이는 len(key) / len(site_word) * 1 / (1 + find_idx)로 하여 둘을 곱하여 주었다.\n",
    "- 여러 검색어가 들어오면 순서에 상관없이 유사도가 높은 것만 확인하여 url과 매칭하여 주었다.\n",
    "- 결과적으로 url과 매칭되어있는 유사도, 출연횟수, 검색자 사전순으로 정렬하여 출력해주었다."
   ]
  },
  {
   "cell_type": "markdown",
   "metadata": {},
   "source": [
    "## 느낀점\n",
    "- 여러 문제를 풀어보며 아직 부족함을 느끼는 곳이 많아 더 공부해야겠다고 생각하였다.\n",
    "- 클래스를 사용하면 좀 더 편하게 짤 수 있을 것 같고 과거에 했던 부분들을 리팩토링해야겠다고 생각하였다.\n",
    "- 확실히 string를 잘 사용할 수 있게 된것은 좋았고 카카오나 삼성같은 기업에 꼭 하나씩 나오는 문자열 문제를 풀 때 python으로 풀까라고 생각할 정도로 사용하기 편하였다."
   ]
  }
 ],
 "metadata": {
  "colab": {
   "name": "assignment-4.ipynb",
   "provenance": []
  },
  "kernelspec": {
   "display_name": "Python 3",
   "language": "python",
   "name": "python3"
  },
  "language_info": {
   "codemirror_mode": {
    "name": "ipython",
    "version": 3
   },
   "file_extension": ".py",
   "mimetype": "text/x-python",
   "name": "python",
   "nbconvert_exporter": "python",
   "pygments_lexer": "ipython3",
   "version": "3.8.8"
  }
 },
 "nbformat": 4,
 "nbformat_minor": 1
}
