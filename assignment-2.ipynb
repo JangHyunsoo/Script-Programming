{
 "cells": [
  {
   "cell_type": "markdown",
   "metadata": {},
   "source": [
    "# Assignment 2\n",
    "### [정보]\n",
    "#### 1) Due Date: 2021년 10월 08일 (금), 23시 59분\n",
    "\n",
    "#### 2) 제출방법: 수업 홈페이지 하단의 \"[숙제 제출 방법]\" 참고\n",
    "\n",
    "#### 3) 내용: 반드시 python code와 수행 결과를 jupyter notebook 내에 작성하여 넣고, 이에 대한 설명 등을 해당 코드 아래에 markdown cell 등에 넣어 기입하시오.\n",
    "\n",
    "#### 4) 숙제이후 소감 작성: 10개의 문제의 답을 모두 작성한 이후에 현재까지 강의를 들은 후의 소감, 숙제를 한 이후의 소감, 또는 전하고자 하는 말 등을 짧막하게라도 좋으니 jupyter notebook 마지막 markdown cell에 함께 작성하여 제출하시오.\n",
    "\n",
    "#### 5) 반드시 본인 스스로 문제를 해결하세요~~~\n"
   ]
  },
  {
   "cell_type": "markdown",
   "metadata": {},
   "source": [
    "### [일반 문제]"
   ]
  },
  {
   "cell_type": "markdown",
   "metadata": {},
   "source": [
    "# Problem 1"
   ]
  },
  {
   "cell_type": "markdown",
   "metadata": {},
   "source": [
    "1. 다음 6 개의 Expression에 대해 Evaluation 결과 값을 출력하고, 해당 결과가 나온 이유에 대해 설명하시오\n",
    "  - 1 and 2 and 3 and 4\n",
    "  - 1 or 2 or 3 or 4\n",
    "  - 1 and 2 or 3 and 4\n",
    "  - (1 and 2) or (3 and 4)\n",
    "  - 1 or 2 and 3 or 4\n",
    "  - (1 or 2) and (3 or 4)"
   ]
  },
  {
   "cell_type": "code",
   "execution_count": 13,
   "metadata": {},
   "outputs": [
    {
     "name": "stdout",
     "output_type": "stream",
     "text": [
      "4\n",
      "1\n",
      "2\n",
      "2\n",
      "1\n",
      "3\n"
     ]
    }
   ],
   "source": [
    "print(1 and 2 and 3 and 4)\n",
    "print(1 or 2 or 3 or 4)\n",
    "print(1 and 2 or 3 and 4)\n",
    "print((1 and 2) or (3 and 4))\n",
    "print(1 or 2 and 3 or 4)\n",
    "print((1 or 2) and (3 or 4))"
   ]
  },
  {
   "cell_type": "markdown",
   "metadata": {},
   "source": [
    "## 코드 설명\n",
    "- and는 앞 선 값이 True라면 뒤에 값을 확인 후 마지막 같이 True라면 마지막 값을 반환한다.\n",
    "- or은 선 값이 True 뒤에 값은 확인하지 않고 현재 확인된 값은 반환한다.\n",
    "- 0이에의 정수 값은 True만 존재한다.\n",
    "    1. 앞선 값이 모두 true이기 때문에 마지막 값인 4를 반환한다.\n",
    "    2. 1과 2에서 1이 True임으로 바로 1를 반환한다.\n",
    "    3. and임으로 1과 2임으로 2를 반환하고 연산자 우선순위에따라 3과 4의 and연산을 진행하여 4를 반환하고 or 연산을 통하여 앞에서 나온 2를 반환한다.\n",
    "    4. 괄호가 있지만 우선순위 때문에 4번과 같은 순서로 진행되기 때문에 2가 나온다.\n",
    "    5. 우선순위에 따라 2와 3의 and 연산으로 3이 나오고 1과 3의 or연산을 통해 1을 반환한다.\n",
    "    6. (1 or 2)에서 1을 반환하고 (3 or 4)에서 3를 반환 후 1이 True임으로 3를 반환한다."
   ]
  },
  {
   "cell_type": "markdown",
   "metadata": {},
   "source": [
    "# Problem 2"
   ]
  },
  {
   "cell_type": "markdown",
   "metadata": {},
   "source": [
    "2. 경로에 해당하는 문자열 1개를 입력 받아 그 안에 디렉토리 경로명과 파일명을 분리하여 리스트로 반환하는 함수 div_path(s)를 작성하시오.\n",
    "  - 인자로 전달하는 문자열은 경로만 들어간다고 가정한다.\n",
    "  - 각 디렉토리와 파일을 구분하는 문자는 '/'로 가정한다.\n",
    "  - 반환하는 리스트의 첫번째 원소는 디렉토리이고 두번째 원소는 파일명이다.\n",
    "  - 다음과 같은 실행 및 출력 결과가 도출되어야 한다.\n",
    "    - div_path('/usr/local/bin/python')\n",
    "      - ['/usr/local/bin', 'python']\n",
    "    - div_path('/home/chulsoo/test.txt')\n",
    "      - ['/home/chulsoo', 'test.txt']\n",
    "  - [참고] 리스트(l) 내에 새로운 정수값 (예를 들어 10)을 넣는 방법은 l.append(10) 이다.      "
   ]
  },
  {
   "cell_type": "code",
   "execution_count": 36,
   "metadata": {},
   "outputs": [
    {
     "name": "stdout",
     "output_type": "stream",
     "text": [
      "['/usr/local/bin', 'python']\n",
      "['/home/chulsoo', 'test.txt']\n"
     ]
    }
   ],
   "source": [
    "def div_path(s):\n",
    "    tmp_list = s.split('/',-1)\n",
    "    path = []\n",
    "    for item in tmp_list[:-1]:\n",
    "        path.append(item)\n",
    "    return ['/'.join(path), tmp_list[-1]]\n",
    "\n",
    "print(div_path('/usr/local/bin/python'))\n",
    "print(div_path('/home/chulsoo/test.txt'))"
   ]
  },
  {
   "cell_type": "markdown",
   "metadata": {},
   "source": [
    "## 코드 설명\n",
    "- 마지막 인덱스는 파일(디렉토리)명이기 때문에 tmp_list[:-1]까지만 append한 뒤 join을 통하여 연결해주었다.\n",
    "- 마지막 인덱스는 따로 tmp_list[-1]를 통하여 따로 리스트에 넣어해주었다.\n",
    "- 둘을 리스트를 통해 리턴해주었다."
   ]
  },
  {
   "cell_type": "markdown",
   "metadata": {},
   "source": [
    "# Problem 3"
   ]
  },
  {
   "cell_type": "markdown",
   "metadata": {},
   "source": [
    "3. 두 개의 리스트를 인자로 받아서 그 두 개의 리스트에 대한 '합집합'을 반환하는 함수 list_union(lista, listb)를 작성하시오.\n",
    "  - **집합 자료형 set은 사용하지 않는다.**\n",
    "  - 인자로 전달하는 리스트 2 개에는 정수값만 들어간다고 가정하자.\n",
    "  - 함수 내에서 새로운 리스트를 만들어 그 리스트 내에 인자로 받은 두 리스트의 모든 원소를 넣어 반환한다.\n",
    "  - 반환하는 리스트에는 절대로 중복된 원소가 들어 있으면 안된다 (집합의 조건).\n",
    "  - 반환하는 리스트는 정렬이 되어 있어야 한다.\n",
    "  - 다음과 같은 실행 및 출력 결과가 도출되어야 한다.\n",
    "    - list_union([1, 2, 3], [1, 2, 4])\n",
    "      - [1, 2, 3, 4]\n",
    "    - list_union([-10, -5, 0, -1], [100, 9, 0, 9])\n",
    "      - [-10, -5, -1, 0, 9, 100]\n",
    "    - list_union([0, 1, 2], [0, 1, 2])\n",
    "      - [0, 1, 2]\n",
    "  - [참고] 리스트(l) 내에 새로운 정수값 (예를 들어 10)을 넣는 방법은 l.append(10) 이다.\n",
    "  - [참고] 임의의 정수값 (x)이 리스트 (l) 내에 존재하는지 판단하는 방법은 x in l 이다."
   ]
  },
  {
   "cell_type": "code",
   "execution_count": 1,
   "metadata": {},
   "outputs": [
    {
     "name": "stdout",
     "output_type": "stream",
     "text": [
      "[1, 2, 2, 2, 3, 4, 5, 6]\n"
     ]
    }
   ],
   "source": [
    "def list_union(lista, listb):\n",
    "    listc = listb[:]\n",
    "    for item in lista:\n",
    "        if not(item in listc):\n",
    "            listc.append(item)\n",
    "    return sorted(listc)\n",
    "\n",
    "a = [1,2,3]\n",
    "b = [1,2,2,2,4,5,6]\n",
    "\n",
    "print(list_union(a, b))"
   ]
  },
  {
   "cell_type": "markdown",
   "metadata": {},
   "source": [
    "## 코드설명\n",
    "- 내부에서 인자로 보낸 list가 변경되는 것을 막기위하여 listc에 복사생성을 통해 대입해주었다.\n",
    "- for each문을 통하여 내구에 item이 listc 내부에 있으면 append를 통하여 추가해주었다.\n",
    "- sorted를 통하여 listc를 정렬 후 리턴해주었다."
   ]
  },
  {
   "cell_type": "markdown",
   "metadata": {},
   "source": [
    "# Problem 4"
   ]
  },
  {
   "cell_type": "markdown",
   "metadata": {},
   "source": [
    "4. 두 개의 리스트를 인자로 받아서 그 두 개의 리스트에 대한 '교집합'을 반환하는 함수 list_intersection(lista, listb)와 '차집합'을 반환하는 함수 list_difference(lista, listb)를 작성하시오.\n",
    " - 모든 가정과 조건은 3번 문제와 동일하다."
   ]
  },
  {
   "cell_type": "code",
   "execution_count": 35,
   "metadata": {},
   "outputs": [
    {
     "name": "stdout",
     "output_type": "stream",
     "text": [
      "[3]\n"
     ]
    }
   ],
   "source": [
    "def list_intersection(lista, listb):\n",
    "    listc = lista[:]\n",
    "    for item in listb:\n",
    "        if item in listc:\n",
    "            listc.remove(item)\n",
    "    return sorted(listc)\n",
    "lista = [1, 2, 3]\n",
    "listb = [1, 2, 4]\n",
    "print(list_intersection(a, b))"
   ]
  },
  {
   "cell_type": "markdown",
   "metadata": {},
   "source": [
    "## 코드설명\n",
    "- 내부에서 인자로 보낸 list가 변경되는 것을 막기위하여 listc에 복사생성을 통해 대입해주었다.\n",
    "- for each문을 통하여 내구에 item이 listc 내부에 있으면 remove 통하여 그 요소를 삭제해주었다.\n",
    "- sorted를 통하여 listc를 정렬 후 리턴해주었다."
   ]
  },
  {
   "cell_type": "markdown",
   "metadata": {},
   "source": [
    "# Problem 5"
   ]
  },
  {
   "cell_type": "markdown",
   "metadata": {},
   "source": [
    "5. 두 개의 양의 정수를 인자로 받아서 해당 범위안에 있는 소수(prime number)의 리스트를 출력하는 함수 print_primenumber(a, b)를 작성하시오.\n",
    "  - 이미 구현된 모듈이나 라이브러리는 사용하지 않는다.\n",
    "  - 함수의 반환(return)은 없으며 함수 내의 끝에서 .format()을 사용하여 다음과 같이 출력한다.\n",
    "    - print_primenumber(2, 10)\n",
    "      - 2 이상 10 이하 정수 중 소수 리스트: [2, 3, 5, 7]"
   ]
  },
  {
   "cell_type": "code",
   "execution_count": 15,
   "metadata": {},
   "outputs": [
    {
     "name": "stdout",
     "output_type": "stream",
     "text": [
      "2 이상 200 이하 정수 중 소수 리스트: [2, 3, 5, 7, 11, 13, 17, 19, 23, 29, 31, 37, 41, 43, 47, 53, 59, 61, 67, 71, 73, 79, 83, 89, 97, 101, 103, 107, 109, 113, 127, 131, 137, 139, 149, 151, 157, 163, 167, 173, 179, 181, 191, 193, 197, 199]\n"
     ]
    }
   ],
   "source": [
    "def print_primenumber(a, b):\n",
    "    if(a > b):\n",
    "        print(\"{0} 이상 {1} 이하 정수 중 소수 리스트: {2}\".format(a,b,[]))\n",
    "        return None\n",
    "    if(b < 2):\n",
    "        print(\"{0} 이상 {1} 이하 정수 중 소수 리스트: {2}\".format(a,b,[]))\n",
    "        return None\n",
    "    \n",
    "    # 에라토스테네스의 체 사용\n",
    "    arr = [i >= 2 for i in range(0,b + 1)]\n",
    "    result = []\n",
    "    \n",
    "    for i in range(2,int(b**0.5) + 1):\n",
    "        if not arr[i]:\n",
    "            continue\n",
    "        for j in range(2*i, b + 1, i):\n",
    "            arr[j] = False\n",
    "    \n",
    "    for i in range(2, b + 1):\n",
    "        if arr[i]:\n",
    "            result.append(i)\n",
    "    \n",
    "    print(\"{0} 이상 {1} 이하 정수 중 소수 리스트: {2}\".format(a,b,result))\n",
    "\n",
    "print_primenumber(2, 200)  "
   ]
  },
  {
   "cell_type": "markdown",
   "metadata": {},
   "source": [
    "## 코드설명\n",
    "- if(a > b)를 추가로 예외 처리해주었다.\n",
    "- 에라토스테네스의 체를 사용하였다.\n",
    "- 에라토스테네스의 체는 소수의 배수를 함으로써 소수가 아닌 것을 걸러낸 후 남아있는 소수를 찾아내는 방식으로 진행된다.\n",
    "- range(2*i, b + 1, i)의 의미는 자기 자신을 재외한 b + 1까지의 자신의 배수라는 뜻으로 사용했다.\n",
    "- 여기서는 b을 포함하여 출력해주어야 하기 때문에 b+1까지 range의 범위를 잡아주었다.\n",
    "- 배열로 출력해야 하기 때문에 result에 발견된 소수를 넣어주었다."
   ]
  },
  {
   "cell_type": "markdown",
   "metadata": {},
   "source": [
    "# Incremental Project 문제"
   ]
  },
  {
   "cell_type": "markdown",
   "metadata": {},
   "source": [
    "#### 웹 URL로 지정된 웹페이지를 문자열로 가져와 1) 모든 HTML 태그를 제외한 순수 텍스트 문자열만을 걸러내고, 2) 그 순수 텍스트 문자열 안에 존재하는 단어가 총 몇개인지 출력하는 프로그램을 작성하시오.\n",
    "  - HTML 태그는 다음 조건을 가지는 것이다.\n",
    "    - < 로 시작하여 >로 끝난다.\n",
    "    - 예를 들어, 아래와 같은 HTML 내용 내에 한 줄이 있다고 가정하자.\n",
    "    ```\n",
    "    <label for=\"keep_signed\">로그인 유지</label> \n",
    "    ```\n",
    "      - 위 소스에서 HTML 태그를 제외한 순수 텍스트 문자열: 로그인 유지 \n",
    "    <br/>\n",
    "    <br/>\n",
    "    - 다른 예제\n",
    "    ```\n",
    "    <a href=\"#panel-3\" class=\"ui-tabs-anchor\" role=\"presentation\" tabindex=\"-1\" id=\"ui-id-3\"><strong>교육역량강화사업 온라인 컨텐츠</strong><br>\n",
    "    ```\n",
    "      - 순수 텍스트 문자열: 교육역량강화사업 온라인 컨텐츠\n",
    "    <br/>\n",
    "    <br/>\n",
    "    \n",
    "    - 한편, 아래와 같은 HTML 한 줄이 있다고 가정하자.\n",
    "    \n",
    "      ```\n",
    "      <link rel=\"stylesheet\" href=\"/common/css/xe.min.css?20150910092654\" />\n",
    "      ```\n",
    "       - 위 한 줄은 HTML 태그로만 구성된 것이며 걸러낼 수 있는 순수 텍스 문자열은 존재하지 않는다.\n",
    "    <br/>    <br/>\n",
    "   - 다른 예제\n",
    "    ```\n",
    "    //<![CDATA[\n",
    "xe.current_lang = \"ko\";\n",
    "xe.cmd_find = \"찾기\";\n",
    "xe.cmd_cancel = \"취소\";\n",
    "xe.cmd_confirm = \"확인\";\n",
    "xe.msg_no_root = \"루트는 선택 할 수 없습니다.\";\n",
    "xe.msg_no_shortcut = \"바로가기는 선택 할 수 없습니다.\";\n",
    "xe.msg_select_menu = \"대상 메뉴 선택\";\n",
    "//]]>\n",
    "    ```\n",
    "      - 순수 텍스트 문자열: 없음\n",
    "    <br/>\n",
    "    <br/>\n",
    "  - 단어를 나누는 기준은 오로지 공백문자 (whitespace)이다.\n",
    "    - 즉, 위 순수 텍스트 문자열인 \"로그인 유지\"에서 분리한 단어는 \"로그인\"과 \"유지\"이다.\n",
    "  - 중복을 고려하지 않고 무조건 모든 단어의 개수를 세어서 출력한다.\n",
    "  - 본 숙제를 위하여 HTML 파싱과 관련된 모듈 (예. BeautifulSoup) 사용 금지\n",
    "  - 다음은 URL로 지정된 웹페이지를 특정 문자열로 가져오는 코드이다. \n",
    "    - 즉, 숙제 코드는 아래 코드로 부터 시작해야 한다.\n",
    "    - 아래 코드 수행시 requests 모듈이 존재하지 않는 에러가 발생하면 command 창에서 다음 코드 입력하여 requests 모듈 설치후 아래 코드 수행\n",
    "        ```\n",
    "    > pip install requests\n",
    "    ```"
   ]
  },
  {
   "cell_type": "markdown",
   "metadata": {},
   "source": [
    "### 함수 부분"
   ]
  },
  {
   "cell_type": "code",
   "execution_count": 37,
   "metadata": {},
   "outputs": [],
   "source": [
    "import requests\n",
    "\n",
    "def sub(s, l, r):\n",
    "    origin_l, tmp1 = s.split(l,1)\n",
    "    tmp2, origin_r = tmp1.split(r,1)\n",
    "    return origin_l + \" \" + origin_r\n",
    "    \n",
    "\n",
    "def getWord(source):\n",
    "    \n",
    "    # 주석 삭제\n",
    "    while source.find(\"//<\") != -1:\n",
    "        source = sub(source, \"//<\", \">\")\n",
    "\n",
    "    # 요소내부에서 앵커요소 나오는 경우가 있는데 어떻게 처리해야할지 모르겠습니다.\n",
    "    # 예시. <a href=\\\" < url > https://gallery.v.daum.net/p/premium/excavation/cSCjAyizEy</url>\\\" class=\\\"link_thumb photo_pic1\\\" data-tiara-action-name=\\\"오늘의 포토_데이터 운영_하단 썸네일\\\" data-tiara-layer=\\\"thumbnail\\\">\n",
    "    while source.find(\"<url>\") != -1:\n",
    "        source = sub(source, \"<url>\",\"</url>\")\n",
    "        \n",
    "    while source.find(\"<text>\") != -1:\n",
    "        source = sub(source, \"<text>\",\"</text>\")\n",
    "        \n",
    "    # <script> 삭제\n",
    "    while source.find(\"<script\") != -1:\n",
    "        source = sub(source, \"<script\", \"</script>\")\n",
    "    \n",
    "    # <style> 삭제\n",
    "    while source.find(\"<style\") != -1:\n",
    "        source = sub(source, \"<style\", \"</style>\")\n",
    "\n",
    "    cursor = source\n",
    "\n",
    "    while cursor.find(\"<\") != -1:\n",
    "        cursor = sub(cursor,\"<\",\">\")\n",
    "    \n",
    "    cursor = cursor.replace(\"\\t\",\"\")\n",
    "    cursor = cursor.replace(\"\\n\",\"\")\n",
    "    cursor = cursor.replace(\"\\r\",\"\")\n",
    "    result = cursor.split(' ')\n",
    "    for _ in range(result.count('')):\n",
    "        result.remove('')\n",
    "    \n",
    "    return result;"
   ]
  },
  {
   "cell_type": "markdown",
   "metadata": {},
   "source": [
    "### 출력 부분"
   ]
  },
  {
   "cell_type": "code",
   "execution_count": 38,
   "metadata": {},
   "outputs": [
    {
     "name": "stdout",
     "output_type": "stream",
     "text": [
      "4376\n",
      "741\n",
      "897\n",
      "30\n",
      "2183\n"
     ]
    }
   ],
   "source": [
    "result1 = getWord(requests.get('http://www.naver.com').text);\n",
    "result2 = getWord(requests.get('https://www.koreatech.ac.kr').text)\n",
    "result3 = getWord(requests.get('http://www.daum.net').text)\n",
    "result4 = getWord(requests.get('http://cse.koreatech.ac.kr').text)\n",
    "result5 = getWord(requests.get('http://www.nytimes.com').text)\n",
    "\n",
    "print(len(result1))\n",
    "# print(result1)\n",
    "print(len(result2))\n",
    "# print(result2)\n",
    "print(len(result3))\n",
    "# print(result3)\n",
    "print(len(result4))\n",
    "# print(result4)\n",
    "print(len(result5))\n",
    "# print(result5)\n",
    "\n"
   ]
  },
  {
   "cell_type": "markdown",
   "metadata": {},
   "source": [
    "- 본 문제에 대한 정확한 답안은 존재하지 않으며, 채점은 코딩 내용을 보고 코딩의 정확성, 완결성, 가독성 등을 보고 평가한다. "
   ]
  },
  {
   "cell_type": "markdown",
   "metadata": {},
   "source": [
    "- 2개 이상의 URL에 대하여 순수한 단어의 개수를 출력하는 예시를 제시할 것"
   ]
  },
  {
   "cell_type": "markdown",
   "metadata": {},
   "source": [
    "## 코드 설명\n",
    "- `re` 모듈에 있는 re과 비슷하게 구현하기 위하여 우선 `sub`를 구현하였다. 하지만 re의 sub는 `wildcard` 기법를 이용하여 구현을 해야하는데 re에 있는 와일드카드 구현이 어떻게 되있는지 모르며 내가 아는 것으로 구현하기 이삼중 for문을 돌아야 하기 때문에 너무 느릴 것 같아 포기하게 되었다.\n",
    "- 와일드카드를 사용하지 못한다면 `<`와 `>`를 확인하여 구현하기로 하였다.\n",
    "- 앵커요소의 중간에 나오는 `<url>`를 처리하는 방법을 몰라 `<url>`이 나오면 없에기로 하였다. `<text>`도 같은 이유였다.\n",
    "- css와 javascript도 없에기로 하였다.\n",
    "- `<` 테그가 없어길때까지 지우고 둘사이의 값을 확인하기 위하여 '////'를 넣기로 하였다. 하지만 확인해보니 ''가 너무 많이 나왔다.\n",
    "- ''가 왜나오는지 확인한 결과 `<tag>`와 `<tag>` 사이에 `' '`가 있었다. 그래서 중간에 `' '`를 넣는 것으로 수정하였다.\n",
    "- 마지막에는 필요없는 '\\t','\\n','\\r'과 ''를 요소에서 삭재해주었다."
   ]
  },
  {
   "cell_type": "markdown",
   "metadata": {},
   "source": [
    "## 느낀점\n",
    "\n",
    "Incremental Project가 많이 어려워 당황했다\n",
    "\n",
    "특히 string을 다루는 기술들이 부족하다는 것을 느껴 좀 더 공부해야겠다.\n",
    "\n",
    "- 위 Incremental Project를 구현하면서 re이라는 모듈과 와일드카드, 정규화 등을 보게 되었다.\n",
    "\n",
    "- 와일드카드를 적용해볼려 했지만 여기와는 맞지 않아보여서 포기하게 되었다.\n",
    "\n",
    "- 모듈을 사용하면 이렇게 편하구나라는 것을 다시 한 번 느낄 수 있었다."
   ]
  }
 ],
 "metadata": {
  "anaconda-cloud": {},
  "kernelspec": {
   "display_name": "Python 3",
   "language": "python",
   "name": "python3"
  },
  "language_info": {
   "codemirror_mode": {
    "name": "ipython",
    "version": 3
   },
   "file_extension": ".py",
   "mimetype": "text/x-python",
   "name": "python",
   "nbconvert_exporter": "python",
   "pygments_lexer": "ipython3",
   "version": "3.8.8"
  }
 },
 "nbformat": 4,
 "nbformat_minor": 1
}
